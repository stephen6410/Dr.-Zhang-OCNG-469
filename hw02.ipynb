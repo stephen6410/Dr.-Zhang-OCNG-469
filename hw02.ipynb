{
 "cells": [
  {
   "cell_type": "markdown",
   "metadata": {},
   "source": [
    "Before you turn this problem in, make sure everything runs as expected. First, **restart the kernel** (click the restart button in the tool bar or select Kernel$\\rightarrow$Restart in the menu bar) and then **run all cells** (in the menu bar, select Cell$\\rightarrow$Run All).\n",
    "\n",
    "**Make sure you delete `raise NotImplementedError()`** (if existing) and fill in any place that says \"YOUR CODE HERE\" or \"YOUR ANSWER HERE\", as well as your name below:"
   ]
  },
  {
   "cell_type": "code",
   "execution_count": 22,
   "metadata": {},
   "outputs": [],
   "source": [
    "NAME = \"Stephen Shell\""
   ]
  },
  {
   "cell_type": "markdown",
   "metadata": {},
   "source": [
    "**Don't modify the formal TEST cells!**"
   ]
  },
  {
   "cell_type": "markdown",
   "metadata": {},
   "source": [
    "---"
   ]
  },
  {
   "cell_type": "markdown",
   "metadata": {
    "deletable": false,
    "editable": false,
    "nbgrader": {
     "cell_type": "markdown",
     "checksum": "5ab217747dc75fc0687c92dc1971e7f0",
     "grade": false,
     "grade_id": "cell-bcbf5dd53e90cad2",
     "locked": true,
     "schema_version": 3,
     "solution": false
    }
   },
   "source": [
    "# Core Language\n",
    "\n",
    "For the first half of the homework, you are asked to write out some lines of code and define variables with particular names. In the second half of the homework, you are asked to fill code in functions.\n",
    "\n",
    "*Don't forget:* You will need to delete the line with `raise NotImplementedError`, write your own solution, and then re-run the cell before running the test cell. Each time you change code in a cell, you  will need to re-run that cell before running any other cells that depend on it!"
   ]
  },
  {
   "cell_type": "code",
   "execution_count": 23,
   "metadata": {
    "deletable": false,
    "editable": false,
    "nbgrader": {
     "cell_type": "code",
     "checksum": "8bd2589c4a795200042487703a3072f7",
     "grade": false,
     "grade_id": "cell-773a84caad7b3177",
     "locked": true,
     "schema_version": 3,
     "solution": false,
     "task": false
    }
   },
   "outputs": [],
   "source": [
    "# load the package\n",
    "from nose.tools import assert_equal"
   ]
  },
  {
   "cell_type": "markdown",
   "metadata": {
    "deletable": false,
    "editable": false,
    "nbgrader": {
     "cell_type": "markdown",
     "checksum": "b2644cdf511103a715df1d8e18be7b7f",
     "grade": false,
     "grade_id": "cell-c404467d6443ad15",
     "locked": true,
     "schema_version": 3,
     "solution": false
    }
   },
   "source": [
    "### 1. (2 points) Create and use two variables\n",
    "\n",
    "**1a.** (1 point) Create a variable called `var1` that equals the integer 20. Create another variable called `var2` that equals the float 3.5. Multiply `var1` by `var2` and call the result `var3`. "
   ]
  },
  {
   "cell_type": "code",
   "execution_count": 24,
   "metadata": {
    "deletable": false,
    "nbgrader": {
     "cell_type": "code",
     "checksum": "4456bf5e9b1df620a023c083ee449df3",
     "grade": false,
     "grade_id": "cell-6a3e3f6b30b2ee0e",
     "locked": false,
     "schema_version": 3,
     "solution": true
    }
   },
   "outputs": [
    {
     "name": "stdout",
     "output_type": "stream",
     "text": [
      "<class 'float'>\n"
     ]
    }
   ],
   "source": [
    "# YOUR CODE HERE\n",
    "var1 = 20\n",
    "var2 = 3.5\n",
    "var3 = var1 * var2\n",
    "print(type(var3))\n",
    "# raise NotImplementedError()"
   ]
  },
  {
   "cell_type": "code",
   "execution_count": 25,
   "metadata": {
    "deletable": false,
    "editable": false,
    "nbgrader": {
     "cell_type": "code",
     "checksum": "e32fd96045e1a94119d7b27e5bf455ad",
     "grade": true,
     "grade_id": "cell-6dff7ca5e48eb93c",
     "locked": true,
     "points": 1,
     "schema_version": 3,
     "solution": false
    }
   },
   "outputs": [
    {
     "name": "stdout",
     "output_type": "stream",
     "text": [
      "Success!\n"
     ]
    }
   ],
   "source": [
    "\"\"\" Test code for the previous code. This cell should NOT give any errors when it is run.\"\"\"\n",
    "# Test the value of each variable\n",
    "assert(var1 == 20)\n",
    "assert(var2 == 3.5)\n",
    "assert(var3 == 70)\n",
    "\n",
    "print('Success!')"
   ]
  },
  {
   "cell_type": "markdown",
   "metadata": {
    "deletable": false,
    "editable": false,
    "nbgrader": {
     "cell_type": "markdown",
     "checksum": "73ffc7ef2d5bc8d41b17a006a0f8d88c",
     "grade": false,
     "grade_id": "cell-e5600d09353e6307",
     "locked": true,
     "schema_version": 3,
     "solution": false
    }
   },
   "source": [
    "**1b.** (0.5 point) Write (using Markdown) what the type of `var3` should be and why."
   ]
  },
  {
   "cell_type": "markdown",
   "metadata": {
    "deletable": false,
    "nbgrader": {
     "cell_type": "markdown",
     "checksum": "4a733c0e8799b19a58584dd7d1da4088",
     "grade": true,
     "grade_id": "cell-341bf7ec6f32d4fb",
     "locked": false,
     "points": 0.5,
     "schema_version": 3,
     "solution": true
    }
   },
   "source": [
    "var3 should be a float, because, in python, whenever an integer is multiplied by a float, the answer becomes a float."
   ]
  },
  {
   "cell_type": "markdown",
   "metadata": {
    "deletable": false,
    "editable": false,
    "nbgrader": {
     "cell_type": "markdown",
     "checksum": "1e03303fe429d5a06a20785b6ffcc1bb",
     "grade": false,
     "grade_id": "cell-0cff9ed01c0269f1",
     "locked": true,
     "schema_version": 3,
     "solution": false
    }
   },
   "source": [
    "**1c.** (0.5 point) Check if `var3` is smaller than 15 and save result to the variable named `checkvar3`."
   ]
  },
  {
   "cell_type": "code",
   "execution_count": 26,
   "metadata": {
    "deletable": false,
    "nbgrader": {
     "cell_type": "code",
     "checksum": "2c8fd9aecda4905ec75dbdafda9a3d58",
     "grade": false,
     "grade_id": "cell-ae656e231c94fee7",
     "locked": false,
     "schema_version": 3,
     "solution": true
    }
   },
   "outputs": [],
   "source": [
    "# YOUR CODE HERE\n",
    "if var3 < 15:\n",
    "    checkvar3 = True\n",
    "else:\n",
    "    checkvar3 = False\n",
    "# raise NotImplementedError()"
   ]
  },
  {
   "cell_type": "code",
   "execution_count": 27,
   "metadata": {
    "deletable": false,
    "editable": false,
    "nbgrader": {
     "cell_type": "code",
     "checksum": "a52087108e68f06576d3221a00515103",
     "grade": true,
     "grade_id": "cell-2f400f395a98fbd5",
     "locked": true,
     "points": 0.5,
     "schema_version": 3,
     "solution": false
    }
   },
   "outputs": [
    {
     "name": "stdout",
     "output_type": "stream",
     "text": [
      "Success!\n"
     ]
    }
   ],
   "source": [
    "\"\"\" Test code for the previous code. This cell should NOT give any errors when it is run.\"\"\"\n",
    "assert(not checkvar3)\n",
    "\n",
    "print('Success!')"
   ]
  },
  {
   "cell_type": "markdown",
   "metadata": {
    "deletable": false,
    "editable": false,
    "nbgrader": {
     "cell_type": "markdown",
     "checksum": "a41e070eebade4181846d68150ae67b9",
     "grade": false,
     "grade_id": "cell-107057f6e28bfa3e",
     "locked": true,
     "schema_version": 3,
     "solution": false
    }
   },
   "source": [
    "### 2. (2 points) Operations on strings\n",
    "\n",
    "**2a.** (1 point) Define two strings: `string1` contains the word \"laser\" and `string2` contains the word \"printer\". Combine the two words together with a space in between and call the resultant variable `printer`."
   ]
  },
  {
   "cell_type": "code",
   "execution_count": 28,
   "metadata": {
    "deletable": false,
    "nbgrader": {
     "cell_type": "code",
     "checksum": "9939d2b35bd57e64e12dbc6132c6fa7c",
     "grade": false,
     "grade_id": "cell-2ea540ee892203eb",
     "locked": false,
     "schema_version": 3,
     "solution": true
    }
   },
   "outputs": [],
   "source": [
    "# YOUR CODE HERE\n",
    "string1 = \"laser\"\n",
    "string2 = \"printer\"\n",
    "printer = string1 + \" \" + string2\n",
    "# raise NotImplementedError()"
   ]
  },
  {
   "cell_type": "code",
   "execution_count": 29,
   "metadata": {
    "deletable": false,
    "editable": false,
    "nbgrader": {
     "cell_type": "code",
     "checksum": "24b12104c19a24f4f9937247e133beeb",
     "grade": true,
     "grade_id": "cell-f06f27643c8964e6",
     "locked": true,
     "points": 1,
     "schema_version": 3,
     "solution": false
    }
   },
   "outputs": [
    {
     "name": "stdout",
     "output_type": "stream",
     "text": [
      "Success!\n"
     ]
    }
   ],
   "source": [
    "\"\"\" Test code for the previous code. This cell should NOT give any errors when it is run.\"\"\"\n",
    "# test type of variables\n",
    "assert(isinstance(string1, str))\n",
    "assert(isinstance(string2, str))\n",
    "assert(isinstance(printer, str))\n",
    "\n",
    "# test final result\n",
    "assert(printer == 'laser printer')\n",
    "\n",
    "print('Success!')"
   ]
  },
  {
   "cell_type": "markdown",
   "metadata": {
    "deletable": false,
    "editable": false,
    "nbgrader": {
     "cell_type": "markdown",
     "checksum": "1ac32013eab3e590a5cefbdf2d2ba857",
     "grade": false,
     "grade_id": "cell-cea445a90d2e60c5",
     "locked": true,
     "schema_version": 3,
     "solution": false
    }
   },
   "source": [
    "**2b.** (1 point) Split the string by the letter \"p\" and save the resultant list in a variable named `reslist`."
   ]
  },
  {
   "cell_type": "code",
   "execution_count": 30,
   "metadata": {
    "deletable": false,
    "nbgrader": {
     "cell_type": "code",
     "checksum": "5c132a520a74e32c4febe68729a4197d",
     "grade": false,
     "grade_id": "cell-4f3584f327c70d2f",
     "locked": false,
     "schema_version": 3,
     "solution": true
    }
   },
   "outputs": [],
   "source": [
    "# YOUR CODE HERE\n",
    "reslist = printer.split('p')\n",
    "# raise NotImplementedError()"
   ]
  },
  {
   "cell_type": "code",
   "execution_count": 31,
   "metadata": {
    "deletable": false,
    "editable": false,
    "nbgrader": {
     "cell_type": "code",
     "checksum": "bd0a15bafdcaa79e1856c87ccfbbf82b",
     "grade": true,
     "grade_id": "cell-8d90e109198c0c97",
     "locked": true,
     "points": 1,
     "schema_version": 3,
     "solution": false
    }
   },
   "outputs": [
    {
     "name": "stdout",
     "output_type": "stream",
     "text": [
      "Success!\n"
     ]
    }
   ],
   "source": [
    "\"\"\" Test code for the previous code. This cell should NOT give any errors when it is run.\"\"\"\n",
    "assert(isinstance(reslist, list))\n",
    "assert(reslist[0] == 'laser ')\n",
    "assert(reslist[1] == 'rinter')\n",
    "\n",
    "print('Success!')"
   ]
  },
  {
   "cell_type": "markdown",
   "metadata": {
    "deletable": false,
    "editable": false,
    "nbgrader": {
     "cell_type": "markdown",
     "checksum": "6a6e14d466a653b784f9449d7de00f57",
     "grade": false,
     "grade_id": "cell-58b999ab78170d00",
     "locked": true,
     "schema_version": 3,
     "solution": false
    }
   },
   "source": [
    "### 3. (2 points) Make a list \n",
    "\n",
    "**3a.** (1 point) Create a variable called `alist` that contains, in order, the string 'apple', the boolean False, and the number 20. Write your answer in the following cell."
   ]
  },
  {
   "cell_type": "code",
   "execution_count": 32,
   "metadata": {
    "deletable": false,
    "nbgrader": {
     "cell_type": "code",
     "checksum": "b19e512548b6af814fdb9404efddd2da",
     "grade": false,
     "grade_id": "cell-b8940cdbf0e33284",
     "locked": false,
     "schema_version": 3,
     "solution": true
    }
   },
   "outputs": [],
   "source": [
    "# YOUR CODE HERE\n",
    "alist = ['apple', False, 20]\n",
    "# raise NotImplementedError()"
   ]
  },
  {
   "cell_type": "code",
   "execution_count": 33,
   "metadata": {
    "deletable": false,
    "editable": false,
    "nbgrader": {
     "cell_type": "code",
     "checksum": "3082d690e8a3efd5ed6fc4f78823c9d5",
     "grade": true,
     "grade_id": "cell-0b9aa531121ee3a4",
     "locked": true,
     "points": 1,
     "schema_version": 3,
     "solution": false
    }
   },
   "outputs": [
    {
     "name": "stdout",
     "output_type": "stream",
     "text": [
      "Success!\n"
     ]
    }
   ],
   "source": [
    "\"\"\" Test code for the previous code. This cell should NOT give any errors when it is run.\"\"\"\n",
    "# This line tests to see if the variable you created, called `alist`, is of type list, and contains the correct element types\n",
    "assert(isinstance(alist, list))\n",
    "assert(isinstance(alist[0], str))\n",
    "assert(isinstance(alist[1], bool))\n",
    "assert(isinstance(alist[2], int))\n",
    "\n",
    "# This line tests to make sure the correct elements are contained in the list\n",
    "assert(alist[0] == 'apple')\n",
    "assert(alist[1] == False)\n",
    "assert(alist[2] == 20)\n",
    "\n",
    "print('Success!')"
   ]
  },
  {
   "cell_type": "markdown",
   "metadata": {
    "deletable": false,
    "editable": false,
    "nbgrader": {
     "cell_type": "markdown",
     "checksum": "521b471cc676932946063546a0721d8d",
     "grade": false,
     "grade_id": "cell-2655df1adf721838",
     "locked": true,
     "schema_version": 3,
     "solution": false
    }
   },
   "source": [
    "**3b.** (0.5 point) Change the last entry of the list to equal the list `[3,5,9]`."
   ]
  },
  {
   "cell_type": "code",
   "execution_count": 34,
   "metadata": {
    "deletable": false,
    "nbgrader": {
     "cell_type": "code",
     "checksum": "088d15b38b160a67024977593f782cab",
     "grade": false,
     "grade_id": "cell-d21e7dc5ecf4f34f",
     "locked": false,
     "schema_version": 3,
     "solution": true
    }
   },
   "outputs": [],
   "source": [
    "# YOUR CODE HERE\n",
    "alist[-1] = [3,5,9]\n",
    "# raise NotImplementedError()"
   ]
  },
  {
   "cell_type": "code",
   "execution_count": 35,
   "metadata": {
    "deletable": false,
    "editable": false,
    "nbgrader": {
     "cell_type": "code",
     "checksum": "15c9b85c011f6d26404b5eea1f3610b9",
     "grade": true,
     "grade_id": "cell-efd6296b634211fd",
     "locked": true,
     "points": 0.5,
     "schema_version": 3,
     "solution": false
    }
   },
   "outputs": [
    {
     "name": "stdout",
     "output_type": "stream",
     "text": [
      "Success!\n"
     ]
    }
   ],
   "source": [
    "\"\"\" Test code for the previous code. This cell should NOT give any errors when it is run.\"\"\"\n",
    "assert(isinstance(alist[2], list))\n",
    "assert(alist[2] == [3,5,9])\n",
    "\n",
    "print('Success!')"
   ]
  },
  {
   "cell_type": "markdown",
   "metadata": {
    "deletable": false,
    "editable": false,
    "nbgrader": {
     "cell_type": "markdown",
     "checksum": "43db78303d3294292b3be7452c4a41ca",
     "grade": false,
     "grade_id": "cell-ebc41494a5161306",
     "locked": true,
     "schema_version": 3,
     "solution": false
    }
   },
   "source": [
    "**3c.** (0.5 point) Check if the index 1 of `alist` is equivalent to the string \"False\" and assign the comparison result to variable `test`."
   ]
  },
  {
   "cell_type": "code",
   "execution_count": 36,
   "metadata": {
    "deletable": false,
    "nbgrader": {
     "cell_type": "code",
     "checksum": "1085c9671f33716c0e734fb839f37846",
     "grade": false,
     "grade_id": "cell-6126d685e7ef4b2c",
     "locked": false,
     "schema_version": 3,
     "solution": true
    }
   },
   "outputs": [],
   "source": [
    "# YOUR CODE HERE\n",
    "if alist[1] == \"False\":\n",
    "    test = True\n",
    "else:\n",
    "    test = False\n",
    "# raise NotImplementedError()"
   ]
  },
  {
   "cell_type": "code",
   "execution_count": 37,
   "metadata": {
    "deletable": false,
    "editable": false,
    "nbgrader": {
     "cell_type": "code",
     "checksum": "1fd1a443eede2b4aea0a259571c48a14",
     "grade": true,
     "grade_id": "cell-5956761dfba66c52",
     "locked": true,
     "points": 0.5,
     "schema_version": 3,
     "solution": false
    }
   },
   "outputs": [
    {
     "name": "stdout",
     "output_type": "stream",
     "text": [
      "Success!\n"
     ]
    }
   ],
   "source": [
    "\"\"\" Test code for the previous code. This cell should NOT give any errors when it is run.\"\"\"\n",
    "assert(not test)\n",
    "\n",
    "print('Success!')"
   ]
  },
  {
   "cell_type": "markdown",
   "metadata": {
    "deletable": false,
    "editable": false,
    "nbgrader": {
     "cell_type": "markdown",
     "checksum": "4695167f8c562e687ff39fd2c8823ee6",
     "grade": false,
     "grade_id": "cell-b4edeac960bc2a9f",
     "locked": true,
     "schema_version": 3,
     "solution": false
    }
   },
   "source": [
    "### 4. (1 point) Make a dictionary \n",
    "\n",
    "Make a dictionary that contains the capital cities of a given state. Instead of all 50 states, just include Alabama, Texas, and California. The dictionary must be called `state_capitals` and should be able to used as follows (note: the capitial city should be capitalized).\n",
    "    \n",
    "    state_capitals['Texas'] = 'Austin'\n"
   ]
  },
  {
   "cell_type": "code",
   "execution_count": 38,
   "metadata": {
    "deletable": false,
    "nbgrader": {
     "cell_type": "code",
     "checksum": "cb7a7406a925e8ff3d6e6cf819b12b7b",
     "grade": false,
     "grade_id": "dictionary",
     "locked": false,
     "schema_version": 3,
     "solution": true
    }
   },
   "outputs": [],
   "source": [
    "# YOUR CODE HERE\n",
    "state_capitals = {}\n",
    "state_capitals.update({'Texas':'Austin', 'Alabama':'Montgomery', 'California':'Sacramento'})\n",
    "# raise NotImplementedError()"
   ]
  },
  {
   "cell_type": "code",
   "execution_count": 39,
   "metadata": {
    "deletable": false,
    "editable": false,
    "nbgrader": {
     "cell_type": "code",
     "checksum": "48307a8c1333f24b0023b50216993fe0",
     "grade": true,
     "grade_id": "test_dictionary",
     "locked": true,
     "points": 1,
     "schema_version": 3,
     "solution": false
    }
   },
   "outputs": [
    {
     "name": "stdout",
     "output_type": "stream",
     "text": [
      "Success!\n"
     ]
    }
   ],
   "source": [
    "\"\"\" Test code for the previous code. This cell should NOT give any errors when it is run.\"\"\"\n",
    "# makes sure your code returns a dictionary\n",
    "assert(isinstance(state_capitals, dict))\n",
    "\n",
    "# checks that the capitals can be accessed correctly\n",
    "assert(state_capitals['Texas'] == 'Austin')\n",
    "assert(state_capitals['Alabama'] == 'Montgomery')\n",
    "assert(state_capitals['California'] == 'Sacramento')\n",
    "\n",
    "# if nothing throws an assertion, good job!\n",
    "print(\"Success!\")"
   ]
  },
  {
   "cell_type": "markdown",
   "metadata": {
    "deletable": false,
    "editable": false,
    "nbgrader": {
     "cell_type": "markdown",
     "checksum": "89aa82581a09d4fd74d0a1e1e68185be",
     "grade": false,
     "grade_id": "cell-57bfeccdefe3ba4a",
     "locked": true,
     "schema_version": 3,
     "solution": false,
     "task": false
    }
   },
   "source": [
    "### 5. (2 points) Test for vowels \n",
    "\n",
    "Write a function that takes a character (i.e. a string of length 1) and returns True if it is a vowel, False otherwise. For example,\n",
    "\n",
    "> isVowel(\"a\")\n",
    "  True <br>\n",
    "> isVowel(\"b\")\n",
    "  False\n",
    "\n",
    "You can compare the input character with a known list of vowels. Don't forget about case!"
   ]
  },
  {
   "cell_type": "code",
   "execution_count": 40,
   "metadata": {
    "deletable": false,
    "nbgrader": {
     "cell_type": "code",
     "checksum": "1c837cf7000f28e20b0132c0d6a19167",
     "grade": false,
     "grade_id": "isvowel",
     "locked": false,
     "schema_version": 3,
     "solution": true
    }
   },
   "outputs": [],
   "source": [
    "def isVowel(char):\n",
    "    \"\"\"Takes a character and returns True if it is a vowel, and False otherwise.\n",
    "    \n",
    "    Parameters\n",
    "    ----------\n",
    "    char : string\n",
    "        string of length 1\n",
    "        \n",
    "    Returns\n",
    "    -------\n",
    "    boolean telling whether char is a vowel or not\n",
    "    \n",
    "    \"\"\"\n",
    "    # YOUR CODE HERE\n",
    "    vowels = ['A', 'a', 'E', 'e', 'I', 'i', 'O', 'o', 'U', 'u']\n",
    "    if len(char) > 1:\n",
    "        return False\n",
    "    else:\n",
    "        if char in vowels:\n",
    "            return True\n",
    "        else:\n",
    "            return False\n",
    "    # raise NotImplementedError()"
   ]
  },
  {
   "cell_type": "code",
   "execution_count": 41,
   "metadata": {
    "deletable": false,
    "editable": false,
    "nbgrader": {
     "cell_type": "code",
     "checksum": "037c0d45adeff67cf0d81dcaeef7ec3f",
     "grade": true,
     "grade_id": "test_isvowel",
     "locked": true,
     "points": 1,
     "schema_version": 3,
     "solution": false
    }
   },
   "outputs": [
    {
     "name": "stdout",
     "output_type": "stream",
     "text": [
      "These tests pass, more in next cell.\n"
     ]
    }
   ],
   "source": [
    "\"\"\"(1 point) Test code for the previous function. This cell should NOT give any errors when it is run.\"\"\"\n",
    "\n",
    "assert isVowel('a')\n",
    "assert not isVowel('m')\n",
    "assert not isVowel(' ')\n",
    "\n",
    "print(\"These tests pass, more in next cell.\")"
   ]
  },
  {
   "cell_type": "code",
   "execution_count": 42,
   "metadata": {
    "deletable": false,
    "editable": false,
    "nbgrader": {
     "cell_type": "code",
     "checksum": "e0414f82d012b58f3fe8c9643f485e18",
     "grade": true,
     "grade_id": "test_isvowel2",
     "locked": true,
     "points": 1,
     "schema_version": 3,
     "solution": false
    }
   },
   "outputs": [
    {
     "name": "stdout",
     "output_type": "stream",
     "text": [
      "Success!\n"
     ]
    }
   ],
   "source": [
    "\"\"\"(1 point) Test code for the previous function. This cell should NOT give any errors when it is run.\"\"\"\n",
    "\n",
    "assert isVowel('U')\n",
    "assert not isVowel('This is not a vowel')\n",
    "\n",
    "print(\"Success!\")"
   ]
  },
  {
   "cell_type": "markdown",
   "metadata": {
    "deletable": false,
    "editable": false,
    "nbgrader": {
     "cell_type": "markdown",
     "checksum": "15073833f04c8ede0c2077305e724515",
     "grade": false,
     "grade_id": "cell-7d7b62a2fc862de3",
     "locked": true,
     "schema_version": 3,
     "solution": false
    }
   },
   "source": [
    "### 6. (2 points) Reverse a string\n",
    "\n",
    "Define a function reverse() that computes the reversal of a string. For example, \n",
    "    >>> reverse(\"I am testing\")\n",
    "    \"gnitset ma I\""
   ]
  },
  {
   "cell_type": "code",
   "execution_count": 43,
   "metadata": {
    "deletable": false,
    "nbgrader": {
     "cell_type": "code",
     "checksum": "6be2b728aad5780445879692496524f7",
     "grade": false,
     "grade_id": "reverse",
     "locked": false,
     "schema_version": 3,
     "solution": true
    }
   },
   "outputs": [],
   "source": [
    "def reverse(string):\n",
    "    \"\"\"Reverse string and then return the converted string.\n",
    "    \n",
    "    Parameters\n",
    "    ----------\n",
    "    string : str\n",
    "        \n",
    "        \n",
    "    Returns\n",
    "    -------\n",
    "    string that is reversed\n",
    "    \"\"\"\n",
    "    # YOUR CODE HERE\n",
    "    reverse = string[::-1]\n",
    "    return reverse\n",
    "    # raise NotImplementedError()"
   ]
  },
  {
   "cell_type": "code",
   "execution_count": 44,
   "metadata": {
    "deletable": false,
    "editable": false,
    "nbgrader": {
     "cell_type": "code",
     "checksum": "2e4619be8d7e47af289d0386cf37606c",
     "grade": true,
     "grade_id": "test_reverse",
     "locked": true,
     "points": 2,
     "schema_version": 3,
     "solution": false
    }
   },
   "outputs": [
    {
     "name": "stdout",
     "output_type": "stream",
     "text": [
      "Success!\n"
     ]
    }
   ],
   "source": [
    "\"\"\" Test code for the previous function. This cell should NOT give any errors when it is run.\"\"\"\n",
    "assert_equal(reverse('I am testing'), 'gnitset ma I')\n",
    "assert_equal(reverse('I am TesTinG'), 'GniTseT ma I')\n",
    "assert_equal(reverse(''), '')\n",
    "\n",
    "print(\"Success!\")"
   ]
  },
  {
   "cell_type": "markdown",
   "metadata": {},
   "source": [
    "# Graduate student problems below\n",
    "\n",
    "Graduate students are **required** to complete problems 7 and 8 below. \n",
    "\n",
    "For undergraduates, you are encouraged to try. If you gain points in this graduate section, it can make up for the points you lose in the above undergraduate section. However, the maximum points you can get for this homework is the number of total points set up for undergraduates (in this homework, it is 9). For example, if you lose 2 points above and gain 2 points below, the final points you get is 9. If you lose 2 points above and gain 4 points below, the final points you get is still 9."
   ]
  },
  {
   "cell_type": "markdown",
   "metadata": {
    "deletable": false,
    "editable": false,
    "nbgrader": {
     "cell_type": "markdown",
     "checksum": "6205db10b4900e8ab53a5bbe2d846855",
     "grade": false,
     "grade_id": "cell-b891dd75f1343cd2",
     "locked": true,
     "schema_version": 3,
     "solution": false
    }
   },
   "source": [
    "### 7. (2 points) Check for palindromes\n",
    "\n",
    "Define a function `is_palindrome()` that recognizes palindromes (i.e. words and phrases that look the same written forwards and backwards). Make sure that case and spaces are ignored in your function; for example,\n",
    "    >>> is_palindrome(\"Never odd or even\") will return\n",
    "    True\n",
    "    \n",
    "*Hint: You might need the .replace() method*"
   ]
  },
  {
   "cell_type": "code",
   "execution_count": 45,
   "metadata": {
    "deletable": false,
    "nbgrader": {
     "cell_type": "code",
     "checksum": "72ee7e5a1201b0b4b00fdf0363311e01",
     "grade": false,
     "grade_id": "palindrome",
     "locked": false,
     "schema_version": 3,
     "solution": true
    }
   },
   "outputs": [],
   "source": [
    "def is_palindrome(phrase):\n",
    "    \"\"\"Returns True for a palindrome and False otherwise.\n",
    "    \n",
    "    Parameters\n",
    "    ----------\n",
    "    phrase : string\n",
    "        \n",
    "        \n",
    "    Returns\n",
    "    -------\n",
    "    Boolean\n",
    "    \"\"\"\n",
    "    # YOUR CODE HERE\n",
    "    phrase = phrase.lower()\n",
    "    phrase = phrase.replace(' ', '')\n",
    "    if phrase == phrase[::-1]:\n",
    "        return True\n",
    "    else:\n",
    "        return False\n",
    "    # raise NotImplementedError()"
   ]
  },
  {
   "cell_type": "code",
   "execution_count": 46,
   "metadata": {
    "deletable": false,
    "editable": false,
    "nbgrader": {
     "cell_type": "code",
     "checksum": "31556c7b22717d01c4275cac0e2cc1c8",
     "grade": true,
     "grade_id": "test_palindrome",
     "locked": true,
     "points": 1,
     "schema_version": 3,
     "solution": false
    }
   },
   "outputs": [
    {
     "name": "stdout",
     "output_type": "stream",
     "text": [
      "These tests pass, more in next cell.\n"
     ]
    }
   ],
   "source": [
    "\"\"\"(1 point) Test code for the previous function. This cell should NOT give any errors when it is run.\"\"\"\n",
    "\n",
    "assert is_palindrome(\"radar\")\n",
    "assert not is_palindrome(\"I am testing\")\n",
    "\n",
    "print(\"These tests pass, more in next cell.\")"
   ]
  },
  {
   "cell_type": "code",
   "execution_count": 47,
   "metadata": {
    "deletable": false,
    "editable": false,
    "nbgrader": {
     "cell_type": "code",
     "checksum": "6d2370cb8e6c2170f93901756ee066a8",
     "grade": true,
     "grade_id": "test_palindrome2",
     "locked": true,
     "points": 1,
     "schema_version": 3,
     "solution": false
    }
   },
   "outputs": [
    {
     "name": "stdout",
     "output_type": "stream",
     "text": [
      "Success!\n"
     ]
    }
   ],
   "source": [
    "\"\"\"(1 point) Test code for the previous function. This cell should NOT give any errors when it is run.\"\"\"\n",
    "\n",
    "assert is_palindrome(\"rad dar\")\n",
    "assert is_palindrome(\"Never odd or even\")\n",
    "\n",
    "print(\"Success!\")"
   ]
  },
  {
   "cell_type": "markdown",
   "metadata": {
    "deletable": false,
    "editable": false,
    "nbgrader": {
     "cell_type": "markdown",
     "checksum": "306d20e5bced8acaa9c5b753956cc42e",
     "grade": false,
     "grade_id": "cell-d251c21ca4d49597",
     "locked": true,
     "schema_version": 3,
     "solution": false
    }
   },
   "source": [
    "### 8. (2 points) Encode and decode using ROT-13\n",
    "\n",
    "In cryptography, a Caesar cipher is a very simple encryption techniques in which each letter in the plain text is replaced by a letter some fixed number of positions down the alphabet. For example, with a shift of 3, A would be replaced by D, B would become E, and so on. The method is named after Julius Caesar, who used it to communicate with his generals. ROT-13 (\"rotate by 13 places\") is a widely used example of a Caesar cipher where the shift is 13. In Python, the encryption for ROT-13 may be represented by means of the following dictionary:\n",
    "\n",
    "    rot_dict = {'a':'n', 'b':'o', 'c':'p', 'd':'q', 'e':'r', 'f':'s', 'g':'t', 'h':'u', \n",
    "           'i':'v', 'j':'w', 'k':'x', 'l':'y', 'm':'z', 'n':'a', 'o':'b', 'p':'c', \n",
    "           'q':'d', 'r':'e', 's':'f', 't':'g', 'u':'h', 'v':'i', 'w':'j', 'x':'k',\n",
    "           'y':'l', 'z':'m', 'A':'N', 'B':'O', 'C':'P', 'D':'Q', 'E':'R', 'F':'S', \n",
    "           'G':'T', 'H':'U', 'I':'V', 'J':'W', 'K':'X', 'L':'Y', 'M':'Z', 'N':'A', \n",
    "           'O':'B', 'P':'C', 'Q':'D', 'R':'E', 'S':'F', 'T':'G', 'U':'H', 'V':'I', \n",
    "           'W':'J', 'X':'K', 'Y':'L', 'Z':'M'}\n",
    "\n",
    "Your task in this exercise is to implement an encoder/decoder of ROT-13. Once you're done, you will be able to read the following secret message:\n",
    "\n",
    "       Pnrfne pvcure? V zhpu cersre Pnrfne fnynq!\n",
    "\n",
    "* Note that since English has 26 characters, your ROT-13 program will be able to both encode and decode texts written in English. You should be able to do this using the properties of a dictionary.\n",
    "\n",
    "\n",
    "* Also note that your function should be able to deal with any special characters (not only those provided in the test cell, such as ? and !). **This is very important**\n",
    "\n",
    "\n",
    "* The argument \"letter\" in the `rot13` function is only 1 single letter or 1 special character, not a string containing multiple letters or characters. So no need to use a for loop inside of the `rot13` function.\n",
    "\n",
    "\n",
    "* You might need to use try-except or if-else."
   ]
  },
  {
   "cell_type": "code",
   "execution_count": 48,
   "metadata": {
    "deletable": false,
    "nbgrader": {
     "cell_type": "code",
     "checksum": "f3ed268d6ea5646620cc1fde46f357a7",
     "grade": false,
     "grade_id": "rot13",
     "locked": false,
     "schema_version": 3,
     "solution": true
    }
   },
   "outputs": [],
   "source": [
    "rot_dict = {'a':'n', 'b':'o', 'c':'p', 'd':'q', 'e':'r', 'f':'s', 'g':'t', 'h':'u', \n",
    "       'i':'v', 'j':'w', 'k':'x', 'l':'y', 'm':'z', 'n':'a', 'o':'b', 'p':'c', \n",
    "       'q':'d', 'r':'e', 's':'f', 't':'g', 'u':'h', 'v':'i', 'w':'j', 'x':'k',\n",
    "       'y':'l', 'z':'m', 'A':'N', 'B':'O', 'C':'P', 'D':'Q', 'E':'R', 'F':'S', \n",
    "       'G':'T', 'H':'U', 'I':'V', 'J':'W', 'K':'X', 'L':'Y', 'M':'Z', 'N':'A', \n",
    "       'O':'B', 'P':'C', 'Q':'D', 'R':'E', 'S':'F', 'T':'G', 'U':'H', 'V':'I', \n",
    "       'W':'J', 'X':'K', 'Y':'L', 'Z':'M'}\n",
    "\n",
    "def rot13(letter):\n",
    "    \"\"\"Swap letter indicated in rot_dict.\n",
    "    \n",
    "    Parameters\n",
    "    ----------\n",
    "    letter : string of length 1\n",
    "        letter to be swapped using the rot_dict dictionary\n",
    "        \n",
    "    Returns\n",
    "    -------\n",
    "    letter\n",
    "    \"\"\"\n",
    "    # YOUR CODE HERE\n",
    "    if letter in rot_dict.keys():\n",
    "        return rot_dict.get(letter)\n",
    "    else:\n",
    "        return letter\n",
    "    # raise NotImplementedError()"
   ]
  },
  {
   "cell_type": "code",
   "execution_count": 49,
   "metadata": {
    "deletable": false,
    "editable": false,
    "nbgrader": {
     "cell_type": "code",
     "checksum": "5bfc848339878d980b615ce727b2acbb",
     "grade": true,
     "grade_id": "test_rot13",
     "locked": true,
     "points": 2,
     "schema_version": 3,
     "solution": false
    }
   },
   "outputs": [
    {
     "name": "stdout",
     "output_type": "stream",
     "text": [
      "Success!\n"
     ]
    }
   ],
   "source": [
    "\"\"\" Test code for the previous function. This cell should NOT give any errors when it is run.\"\"\"\n",
    "phrase = 'Pnrfne pvcure? V zhpu cersre Pnrfne fnynq!'\n",
    "\n",
    "translatedchars = list(map(rot13, phrase))  # map connects a function with \n",
    "                                            # each letter in phrase.\n",
    "translated = ''.join(translatedchars)  # we got a bunch of characters back. Join combines them\n",
    "                                       # into a string\n",
    "\n",
    "# recode\n",
    "retranslatedchars = list(map(rot13, translated))\n",
    "retranslated = ''.join(retranslatedchars)\n",
    "    \n",
    "# Check decode\n",
    "assert_equal(translated, \"Caesar cipher? I much prefer Caesar salad!\")\n",
    "assert_equal(retranslated, phrase)  # check that it works both ways\n",
    "\n",
    "print(\"Success!\")"
   ]
  },
  {
   "cell_type": "code",
   "execution_count": null,
   "metadata": {},
   "outputs": [],
   "source": []
  }
 ],
 "metadata": {
  "anaconda-cloud": {},
  "kernelspec": {
   "display_name": "Python 3 (ipykernel)",
   "language": "python",
   "name": "python3"
  },
  "language_info": {
   "codemirror_mode": {
    "name": "ipython",
    "version": 3
   },
   "file_extension": ".py",
   "mimetype": "text/x-python",
   "name": "python",
   "nbconvert_exporter": "python",
   "pygments_lexer": "ipython3",
   "version": "3.8.10"
  },
  "toc": {
   "base_numbering": 1,
   "nav_menu": {},
   "number_sections": false,
   "sideBar": true,
   "skip_h1_title": false,
   "title_cell": "Table of Contents",
   "title_sidebar": "Contents",
   "toc_cell": false,
   "toc_position": {},
   "toc_section_display": true,
   "toc_window_display": false
  }
 },
 "nbformat": 4,
 "nbformat_minor": 1
}
