{
 "cells": [
  {
   "cell_type": "markdown",
   "metadata": {},
   "source": [
    "Before you turn this problem in, make sure everything runs as expected. First, **restart the kernel** (click the restart button in the tool bar or select Kernel$\\rightarrow$Restart in the menu bar) and then **run all cells** (in the menu bar, select Cell$\\rightarrow$Run All).\n",
    "\n",
    "**Make sure you delete `raise NotImplementedError()`** (if existing) and fill in any place that says \"YOUR CODE HERE\" or \"YOUR ANSWER HERE\", as well as your name below:"
   ]
  },
  {
   "cell_type": "code",
   "execution_count": 94,
   "metadata": {},
   "outputs": [],
   "source": [
    "NAME = \"Stephen Shell\""
   ]
  },
  {
   "cell_type": "markdown",
   "metadata": {},
   "source": [
    "**Don't modify the formal TEST cells!**"
   ]
  },
  {
   "cell_type": "markdown",
   "metadata": {},
   "source": [
    "---"
   ]
  },
  {
   "cell_type": "markdown",
   "metadata": {
    "deletable": false,
    "editable": false,
    "nbgrader": {
     "cell_type": "markdown",
     "checksum": "2c22198134537622b70a90f5cd1c96d3",
     "grade": false,
     "grade_id": "cell-c0563c11a2dbc9d6",
     "locked": true,
     "schema_version": 3,
     "solution": false
    }
   },
   "source": [
    "# Numerical Python"
   ]
  },
  {
   "cell_type": "code",
   "execution_count": 95,
   "metadata": {},
   "outputs": [],
   "source": [
    "# ALWAYS RUN THIS CELL FIRST\n",
    "import numpy as np"
   ]
  },
  {
   "cell_type": "markdown",
   "metadata": {
    "deletable": false,
    "editable": false,
    "nbgrader": {
     "cell_type": "markdown",
     "checksum": "f1662ba872a90ae2b70478d63c76b86c",
     "grade": false,
     "grade_id": "cell-b7457ad18e009228",
     "locked": true,
     "schema_version": 3,
     "solution": false
    }
   },
   "source": [
    "### 1. Vector manipulation (0.5 points)\n",
    "\n",
    "The word \"vector\" is commonly used to mean a one-dimensional array. \n",
    "Create a vector of size 10 called `vectorm` that contains zeros but with the fifth value as 2."
   ]
  },
  {
   "cell_type": "code",
   "execution_count": 96,
   "metadata": {
    "deletable": false,
    "nbgrader": {
     "cell_type": "code",
     "checksum": "e70f75646ba5687616e39f509d50c051",
     "grade": false,
     "grade_id": "vector-manipulation",
     "locked": false,
     "schema_version": 3,
     "solution": true
    }
   },
   "outputs": [],
   "source": [
    "# YOUR CODE HERE\n",
    "l1 = [0,0,0,0,2,0,0,0,0,0] \n",
    "\n",
    "vectorm = np.array(l1)\n",
    "# raise NotImplementedError()"
   ]
  },
  {
   "cell_type": "code",
   "execution_count": 97,
   "metadata": {
    "deletable": false,
    "editable": false,
    "nbgrader": {
     "cell_type": "code",
     "checksum": "8553be22b9a74439dd1e6397ae3f505d",
     "grade": true,
     "grade_id": "test_vector-manipulation",
     "locked": true,
     "points": 0.5,
     "schema_version": 3,
     "solution": false
    }
   },
   "outputs": [
    {
     "name": "stdout",
     "output_type": "stream",
     "text": [
      "Success!\n"
     ]
    }
   ],
   "source": [
    "\"\"\"(0.5 point) Test code for the previous function. This cell should NOT give any errors when it is run.\"\"\"\n",
    "\n",
    "assert isinstance(vectorm, np.ndarray)\n",
    "assert vectorm[:4].all() == 0\n",
    "assert vectorm[4] == 2\n",
    "assert vectorm[5:].all() == 0\n",
    "\n",
    "print(\"Success!\")"
   ]
  },
  {
   "cell_type": "markdown",
   "metadata": {
    "deletable": false,
    "editable": false,
    "nbgrader": {
     "cell_type": "markdown",
     "checksum": "919e5f42ef0a66f8370370d47912b971",
     "grade": false,
     "grade_id": "cell-e96ee956469814d0",
     "locked": true,
     "schema_version": 3,
     "solution": false
    }
   },
   "source": [
    "### 2. Vector range (0.5 points)\n",
    "\n",
    "Create a vector called `vectorr` with values ranging from 10 to 59, inclusive (aka, also including 10 and 59). Do not write out each element to create the array."
   ]
  },
  {
   "cell_type": "code",
   "execution_count": 98,
   "metadata": {
    "deletable": false,
    "nbgrader": {
     "cell_type": "code",
     "checksum": "d8c523146cd563e6a7cb303d61afda69",
     "grade": false,
     "grade_id": "vector-range",
     "locked": false,
     "schema_version": 3,
     "solution": true
    }
   },
   "outputs": [],
   "source": [
    "# YOUR CODE HERE\n",
    "l2 = range(10,60)\n",
    "\n",
    "vectorr = np.array(l2)\n",
    "# raise NotImplementedError()"
   ]
  },
  {
   "cell_type": "code",
   "execution_count": 99,
   "metadata": {
    "deletable": false,
    "editable": false,
    "nbgrader": {
     "cell_type": "code",
     "checksum": "7f4cdd8d7e0754104d68545d276bee28",
     "grade": true,
     "grade_id": "test_vector-range",
     "locked": true,
     "points": 0.5,
     "schema_version": 3,
     "solution": false
    }
   },
   "outputs": [
    {
     "name": "stdout",
     "output_type": "stream",
     "text": [
      "Success!\n"
     ]
    }
   ],
   "source": [
    "\"\"\"(0.5 point) Test code for the previous function. This cell should NOT give any errors when it is run.\"\"\"\n",
    "\n",
    "assert np.array_equal(vectorr, np.array([10, 11, 12, 13, 14, 15, 16, 17, 18, 19, 20, 21, 22, 23, 24, 25, 26,\n",
    "       27, 28, 29, 30, 31, 32, 33, 34, 35, 36, 37, 38, 39, 40, 41, 42, 43, 44, 45, 46, 47, 48, 49, 50, 51, 52, 53, 54, 55, 56, 57, 58, 59]))\n",
    "assert isinstance(vectorr, np.ndarray)\n",
    "\n",
    "print(\"Success!\")"
   ]
  },
  {
   "cell_type": "markdown",
   "metadata": {
    "deletable": false,
    "editable": false,
    "nbgrader": {
     "cell_type": "markdown",
     "checksum": "46cd8da90dd0f84efa7cdf96628d8d52",
     "grade": false,
     "grade_id": "cell-b1556cbe10920a06",
     "locked": true,
     "schema_version": 3,
     "solution": false
    }
   },
   "source": [
    "### 3. Reverse a vector (1 point)\n",
    "\n",
    "Write a function, `reverse(x)` which reverses a vector, so that the first element becomes the last element."
   ]
  },
  {
   "cell_type": "code",
   "execution_count": 100,
   "metadata": {
    "deletable": false,
    "nbgrader": {
     "cell_type": "code",
     "checksum": "573e24f417759b4fb5354a8fed4def62",
     "grade": false,
     "grade_id": "reverse",
     "locked": false,
     "schema_version": 3,
     "solution": true
    }
   },
   "outputs": [],
   "source": [
    "def reverse(vec):\n",
    "    \"\"\"return a 1D vector with the elements reversed\n",
    "\n",
    "    Input\n",
    "    -----\n",
    "        x: 1D array\n",
    "\n",
    "    Output\n",
    "    ------\n",
    "        res: 1D array, with the elements of `x` reversed\n",
    "    \"\"\"\n",
    "    # YOUR CODE HERE\n",
    "    rev = vec[::-1]\n",
    "    return rev\n",
    "    # raise NotImplementedError()"
   ]
  },
  {
   "cell_type": "code",
   "execution_count": 101,
   "metadata": {
    "deletable": false,
    "editable": false,
    "nbgrader": {
     "cell_type": "code",
     "checksum": "783b22c248ca0336ec02de5a77e6dada",
     "grade": true,
     "grade_id": "test_reverse",
     "locked": true,
     "points": 1,
     "schema_version": 3,
     "solution": false
    }
   },
   "outputs": [
    {
     "name": "stdout",
     "output_type": "stream",
     "text": [
      "Success!\n"
     ]
    }
   ],
   "source": [
    "\"\"\"(1 point) Test code for the previous function. This cell should NOT give any errors when it is run.\"\"\"\n",
    "\n",
    "vec = np.array([1, 2, 3, 4])\n",
    "vector_reversed = reverse(vec)\n",
    "assert np.array_equal(vector_reversed, np.array([4, 3, 2, 1]))\n",
    "vec = np.array([-1, 9, 2.38])\n",
    "vector_reversed = reverse(vec)\n",
    "assert np.array_equal(vector_reversed, np.array([2.38, 9, -1]))\n",
    "assert isinstance(vector_reversed, np.ndarray)\n",
    "\n",
    "print(\"Success!\")"
   ]
  },
  {
   "cell_type": "markdown",
   "metadata": {
    "deletable": false,
    "editable": false,
    "nbgrader": {
     "cell_type": "markdown",
     "checksum": "278fbab882fbbfa8f0349e575354ee83",
     "grade": false,
     "grade_id": "cell-a91cca8e0f314c40",
     "locked": true,
     "schema_version": 3,
     "solution": false
    }
   },
   "source": [
    "### 4. Array with random values (1 point)\n",
    "\n",
    "Create a 10x20x3 array called `random_array` that contains normally distributed ($\\mu=0,~\\sigma=1)$ random values."
   ]
  },
  {
   "cell_type": "code",
   "execution_count": 102,
   "metadata": {
    "deletable": false,
    "nbgrader": {
     "cell_type": "code",
     "checksum": "4947bd55f5e49a87e8b09310cb8243de",
     "grade": false,
     "grade_id": "random_array",
     "locked": false,
     "schema_version": 3,
     "solution": true
    }
   },
   "outputs": [
    {
     "name": "stdout",
     "output_type": "stream",
     "text": [
      "[[[ 8.85085597e-02 -1.03271472e+00  4.03650862e-01]\n",
      "  [ 2.25931673e-01  1.03675899e+00  4.28794080e-01]\n",
      "  [ 7.26154683e-01  8.96652386e-01 -3.48933266e-01]\n",
      "  [ 3.11211910e-01 -1.11900551e+00  4.32713940e-01]\n",
      "  [ 2.28677926e+00  9.64103735e-01  3.98928417e-01]\n",
      "  [-4.79727016e-01  1.93263601e+00 -1.27335335e+00]\n",
      "  [-1.21340415e-01 -4.79892550e-01  7.49015557e-01]\n",
      "  [ 8.74092243e-01 -1.39905033e+00 -7.33291890e-01]\n",
      "  [ 1.33161355e+00  4.98530083e-01 -8.69637828e-01]\n",
      "  [-8.20676382e-01  1.17897838e+00 -3.66181646e-02]\n",
      "  [ 1.25882063e+00  1.34027192e+00 -3.15632649e-01]\n",
      "  [-8.99711076e-01 -1.50551298e+00 -7.12626406e-01]\n",
      "  [-5.82547917e-01  9.15886288e-01  5.46627999e-01]\n",
      "  [ 9.31601072e-01  6.19109478e-01  1.55361634e+00]\n",
      "  [-6.46759794e-01 -7.26991456e-02 -4.68067543e-01]\n",
      "  [-2.91737952e-01 -8.13921594e-01 -9.31409616e-01]\n",
      "  [-3.16786088e-01 -1.06115904e+00 -8.36516720e-01]\n",
      "  [ 8.98146791e-01 -5.47234399e-01  4.19281808e-01]\n",
      "  [-1.24652736e+00 -9.00890220e-01 -8.57205553e-01]\n",
      "  [ 1.09378586e-01  8.73885768e-01  1.05449359e+00]]\n",
      "\n",
      " [[-5.46721605e-01 -9.68392978e-01  1.62759621e+00]\n",
      "  [ 1.01809480e+00 -7.41029130e-01  6.56128241e-01]\n",
      "  [ 1.42139644e+00 -1.59684914e+00 -1.13398796e-01]\n",
      "  [-7.87657021e-01 -3.02136602e-01 -3.16157287e-01]\n",
      "  [-1.19769377e+00  1.31881656e-01  5.66957094e-02]\n",
      "  [-1.20680840e+00  2.83741321e-01  8.20409231e-01]\n",
      "  [-8.16897309e-01  4.51208976e-02 -3.23955016e-01]\n",
      "  [-1.17634368e-01  6.16119305e-01 -5.75842693e-01]\n",
      "  [-2.06151352e-01  2.70984675e-01 -2.01959081e-01]\n",
      "  [ 2.03920133e-02  2.03780019e+00 -1.05432524e-01]\n",
      "  [ 3.81779474e-01  5.70338227e-01  4.73076215e-01]\n",
      "  [-2.28079834e+00 -1.85648091e-01  2.86810608e-03]\n",
      "  [ 2.64749116e+00 -1.67693885e-01 -6.50949619e-01]\n",
      "  [-1.38084102e+00 -4.19014901e-01  1.37898168e-01]\n",
      "  [ 2.80461357e-01  3.12559005e-01 -7.41320086e-01]\n",
      "  [ 6.20375769e-01  2.01422084e+00  1.98113608e-01]\n",
      "  [-1.18011902e+00  5.15537555e-01 -7.67282757e-01]\n",
      "  [-3.49573434e-01 -5.63845922e-01  1.47180339e+00]\n",
      "  [-1.08419863e+00  1.78905617e+00  1.39804544e+00]\n",
      "  [-5.89629012e-01 -2.19419259e-01  2.12245494e-01]]\n",
      "\n",
      " [[-1.26812658e+00 -1.35164691e+00  1.32394179e-01]\n",
      "  [ 6.69530259e-01  2.01493446e-01  1.18294429e+00]\n",
      "  [ 1.32828866e+00 -5.21613041e-02 -1.98426300e-01]\n",
      "  [-5.23328531e-02  1.48037252e+00  1.08945393e+00]\n",
      "  [ 4.30911894e-02 -9.79325888e-02  9.02632534e-01]\n",
      "  [ 1.59945879e-01  5.70378679e-02 -2.76407572e-01]\n",
      "  [-5.74991563e-01 -9.47547581e-02  1.78115404e+00]\n",
      "  [-9.53522800e-01  1.25552585e-01  2.95424098e+00]\n",
      "  [ 5.40534948e-01  1.50844842e+00 -7.17205883e-01]\n",
      "  [ 1.55414787e+00 -1.87144594e+00 -1.11520047e+00]\n",
      "  [ 5.81820533e-01 -2.43001916e+00 -1.35067771e+00]\n",
      "  [-1.44733119e+00  6.59010990e-01 -1.43232866e-01]\n",
      "  [-4.92856233e-01 -1.02762526e+00 -7.13180892e-01]\n",
      "  [ 6.31085774e-01 -1.34603433e+00 -1.43153895e+00]\n",
      "  [ 1.73894636e-01  3.24231791e-01 -1.93899124e-01]\n",
      "  [-1.89457928e+00  5.48024632e-01  5.18225167e-01]\n",
      "  [ 2.92527895e-01  1.42404132e-01 -8.40642775e-01]\n",
      "  [-1.57835896e+00  2.45575458e-01  9.66928827e-01]\n",
      "  [ 3.41834290e-01 -2.94408439e-01 -1.03850764e+00]\n",
      "  [-1.57007056e-01 -4.86878595e-01  6.66181954e-02]]\n",
      "\n",
      " [[-2.02647449e+00  1.84397753e-01  1.07679722e+00]\n",
      "  [ 1.19030394e+00 -6.43651027e-01  1.85929242e-01]\n",
      "  [-1.13735007e+00  3.80589648e-03  5.18711270e-01]\n",
      "  [-1.33668968e+00 -2.84636398e-01  7.07828822e-01]\n",
      "  [ 3.84370358e-01  1.35359375e+00  1.64187728e-01]\n",
      "  [-1.02690398e-01  2.06701616e-01  1.61406271e-01]\n",
      "  [ 1.46212844e+00  1.48086084e+00 -8.63930232e-01]\n",
      "  [ 8.13668645e-01 -1.00931104e+00 -2.37644880e+00]\n",
      "  [ 1.03807434e+00  1.97574188e+00  1.52718107e+00]\n",
      "  [-5.69632761e-02  4.86453299e-01 -9.14768128e-01]\n",
      "  [-1.36567862e-02 -4.43589109e-01 -3.57957541e+00]\n",
      "  [ 5.10734612e-01  3.53434076e-01 -1.95153032e-02]\n",
      "  [-1.47591335e+00 -6.98465545e-01  5.90767541e-01]\n",
      "  [-1.37426052e+00 -7.87186336e-01  6.43131250e-01]\n",
      "  [ 2.82732378e+00 -1.29010468e+00 -8.16120017e-01]\n",
      "  [-9.42566140e-01  2.27707822e+00 -1.43194871e+00]\n",
      "  [-6.71189575e-01  4.91794099e-02 -9.58014652e-02]\n",
      "  [ 8.84648205e-01 -1.46180541e+00 -4.05416400e-01]\n",
      "  [-6.68432708e-01  8.48319194e-01  5.36255381e-02]\n",
      "  [ 6.78769905e-01  9.26044180e-01 -1.36936189e+00]]\n",
      "\n",
      " [[-1.10712974e+00 -3.83847881e-01  6.64389832e-01]\n",
      "  [-6.30893298e-02 -1.08586874e+00  7.18291040e-01]\n",
      "  [-1.63053228e+00  3.45663484e-01  1.36768950e+00]\n",
      "  [ 7.74866856e-01 -1.00276471e+00  3.90561151e-01]\n",
      "  [ 1.12079832e+00  4.38086905e-01  1.23452358e+00]\n",
      "  [ 1.01872455e-01 -4.90850914e-01 -7.32636702e-01]\n",
      "  [ 4.04565837e-01 -3.80142267e-01 -2.48715736e+00]\n",
      "  [ 3.68013783e-01  1.10653808e+00  3.70503107e-02]\n",
      "  [ 1.13810258e+00 -1.90838735e+00 -8.11008657e-01]\n",
      "  [-5.33369617e-01 -2.78002345e-01 -3.51821835e-01]\n",
      "  [ 1.10502498e+00  1.06798870e-01 -9.68627500e-01]\n",
      "  [-5.12717104e-01  7.75556777e-02 -1.42109298e-01]\n",
      "  [ 1.44286933e+00  1.82023331e+00 -4.13506503e-01]\n",
      "  [ 3.60367940e-01 -2.47602180e-01  6.70738376e-01]\n",
      "  [-1.18010788e+00  1.33442601e+00 -2.69981339e-01]\n",
      "  [ 1.01086228e+00 -1.33499201e+00  1.85054839e+00]\n",
      "  [ 6.56819252e-01 -1.44733815e+00 -6.90779577e-01]\n",
      "  [-1.77914696e+00 -8.94375869e-02  7.10509678e-01]\n",
      "  [ 3.81520270e-01  6.73425953e-02 -4.26051639e-01]\n",
      "  [-6.86051402e-01 -1.03888544e+00  6.71159020e-01]]\n",
      "\n",
      " [[-7.04912625e-02 -5.18736773e-01  2.11306867e-02]\n",
      "  [ 8.83976725e-01 -1.29678808e+00  5.56886836e-02]\n",
      "  [ 7.94187869e-01 -1.24988271e+00 -1.72195479e+00]\n",
      "  [ 1.99072805e+00 -5.80273084e-01 -3.53049169e-01]\n",
      "  [ 2.20916417e-01  1.11911584e+00  1.40291192e+00]\n",
      "  [ 1.20177905e+00  1.17987047e+00  8.09212999e-01]\n",
      "  [ 1.25015609e+00  2.20273356e-01 -1.52034965e+00]\n",
      "  [ 8.50174374e-02  1.19860197e+00 -7.98078627e-01]\n",
      "  [-3.44355627e-01  1.65143035e-01 -6.40136839e-01]\n",
      "  [ 1.19277821e+00  1.15948107e-01  1.51481454e+00]\n",
      "  [-7.69798386e-01  3.55956157e-01 -4.42886952e-01]\n",
      "  [ 1.13538907e+00  1.71700246e+00  5.00285487e-01]\n",
      "  [-1.75311076e+00 -1.58390240e+00  1.52356304e+00]\n",
      "  [-1.86349639e+00 -3.98382657e-01  7.99927214e-01]\n",
      "  [ 1.32209451e+00 -7.63029428e-01 -1.56766575e+00]\n",
      "  [-4.37547564e-01 -2.39266144e+00  2.99838063e-02]\n",
      "  [ 8.42715545e-02  2.96594326e-03 -1.25165990e-02]\n",
      "  [-8.26426730e-01 -9.65629905e-01 -1.40202387e+00]\n",
      "  [ 2.89423942e-03  6.16994357e-01  7.99136805e-01]\n",
      "  [ 4.31462875e-01 -9.60864113e-01 -2.74656645e+00]]\n",
      "\n",
      " [[-3.69511910e-01 -3.44160396e-01  1.29220134e+00]\n",
      "  [ 1.33428038e+00 -3.76113002e-02  3.48492725e-01]\n",
      "  [ 8.53857957e-02  1.34960566e+00 -1.95409112e+00]\n",
      "  [-2.22170778e+00  1.22393538e-01 -9.84834108e-01]\n",
      "  [ 6.58967364e-01  7.00167745e-01 -9.03444393e-01]\n",
      "  [ 4.81780647e-01 -3.47209997e-02  5.73246348e-01]\n",
      "  [-7.20866294e-01  4.22444395e-01  1.16299271e+00]\n",
      "  [-9.87468342e-01  6.76807487e-01 -6.48499460e-01]\n",
      "  [ 1.14378472e+00 -4.22074346e-02  2.47128997e-01]\n",
      "  [ 1.73426193e-01  2.77159454e+00 -1.21868159e+00]\n",
      "  [-1.25783548e+00 -1.08709984e+00 -5.78680956e-01]\n",
      "  [ 8.71035163e-01 -2.01375363e-01 -1.06905086e-01]\n",
      "  [ 2.15593563e+00  2.01381664e+00  6.28194964e-01]\n",
      "  [-1.00138315e+00  3.31265941e-01  4.93927337e-03]\n",
      "  [-3.92752930e-01 -8.24594359e-01  7.83417203e-01]\n",
      "  [-2.47435594e-01 -5.12736559e-01  1.20293241e-01]\n",
      "  [ 7.93236115e-01  9.62579246e-01  1.34397214e-01]\n",
      "  [-4.13145727e-01  1.42411139e-01  5.07986121e-01]\n",
      "  [ 5.22288328e-01  8.06705191e-01 -1.04319799e+00]\n",
      "  [ 6.21466768e-01 -3.22681420e-01 -1.03641544e-01]]\n",
      "\n",
      " [[-6.25486108e-01  1.85357497e-01 -3.47896190e-02]\n",
      "  [-1.32768477e+00  9.30369296e-03 -1.20149873e+00]\n",
      "  [ 1.35394731e+00 -1.64761383e+00 -1.00783908e-01]\n",
      "  [-1.35008320e-01  4.16883105e-01 -1.42181639e+00]\n",
      "  [-1.75194713e-01 -1.88680757e-01 -6.19159341e-01]\n",
      "  [-1.14182015e+00  5.94739923e-01 -3.84405789e-01]\n",
      "  [-1.22463825e+00 -2.10674650e+00 -3.47451254e-01]\n",
      "  [-1.57782742e-01 -1.51288571e+00 -2.11027590e-01]\n",
      "  [-6.40240746e-01 -1.56457776e+00 -2.24861841e+00]\n",
      "  [-4.91293962e-01 -1.12759779e+00  4.14777336e-01]\n",
      "  [-4.82243358e-02 -5.16308306e-01 -9.29918827e-01]\n",
      "  [ 1.89491486e+00 -1.03609426e-01 -7.67686409e-02]\n",
      "  [ 2.05177947e-01  7.98908094e-01  2.10144030e-01]\n",
      "  [-3.45400583e-01  3.94549952e-02  3.89151267e-02]\n",
      "  [ 1.26614635e+00 -2.45915053e+00 -4.36714486e-01]\n",
      "  [ 5.70758206e-01  3.20334535e-01 -6.35176452e-01]\n",
      "  [-2.50782408e-01  1.02248787e+00 -2.07219360e+00]\n",
      "  [-4.91132929e-01 -1.27214526e+00 -1.93496706e-01]\n",
      "  [-2.84457679e-01 -1.69198583e+00  2.03732505e-01]\n",
      "  [ 1.65572309e+00  7.77314221e-01 -9.29773550e-01]]\n",
      "\n",
      " [[ 1.45729885e+00 -8.33262187e-01  6.07220033e-01]\n",
      "  [-4.88906496e-02 -1.92607940e+00  2.55619781e-03]\n",
      "  [ 6.28680274e-01  1.53251219e+00  1.34664398e-01]\n",
      "  [ 3.96734788e-01  1.49577495e+00 -1.46351379e+00]\n",
      "  [-1.04504462e+00  5.89144868e-01  1.18600423e+00]\n",
      "  [-5.56497095e-01 -8.90585282e-01 -1.21240794e+00]\n",
      "  [-2.54617197e-01 -9.87879442e-01 -4.67998075e-01]\n",
      "  [ 1.33781371e-01  4.52839053e-01 -6.09543599e-01]\n",
      "  [ 2.57199854e-01  2.17580370e-01 -8.68202129e-01]\n",
      "  [-1.53289914e-01 -1.34921881e+00 -7.71045906e-01]\n",
      "  [-3.66130642e-01  8.15421924e-01 -1.17089973e+00]\n",
      "  [ 1.15797017e+00 -4.11280069e-01 -2.24165111e-01]\n",
      "  [ 2.81106837e-01  3.95523926e-01  4.40887863e-01]\n",
      "  [ 3.69532483e-02 -1.27657708e+00 -1.74261861e-01]\n",
      "  [-2.85364463e-02  2.07228221e-01 -1.07661987e+00]\n",
      "  [-1.23281263e+00  1.07121291e+00  2.02237009e-01]\n",
      "  [-4.56299475e-02  4.98966719e-01  1.35161642e-01]\n",
      "  [ 1.09699154e+00  7.21753296e-01  1.50570964e-03]\n",
      "  [ 7.74170835e-01  1.69914541e+00  7.73625199e-01]\n",
      "  [-7.32905279e-01 -1.44208717e+00  7.91641092e-01]]\n",
      "\n",
      " [[ 2.53673350e-01  7.14997982e-01 -9.31564192e-01]\n",
      "  [ 8.53979856e-01  8.60714608e-01  7.64387359e-02]\n",
      "  [-1.20918226e+00 -2.26153982e-01  1.28474616e+00]\n",
      "  [ 5.74459778e-01 -2.37430523e+00  9.44987002e-02]\n",
      "  [ 8.10240526e-01 -1.61115627e+00  2.67642212e-01]\n",
      "  [-4.68525484e-01 -1.15558795e+00  6.00694961e-01]\n",
      "  [-6.88919321e-01 -6.78876637e-01  9.30367417e-01]\n",
      "  [-7.46489612e-01  4.98222131e-01  2.90541462e-01]\n",
      "  [-1.08526742e+00  5.85369798e-01  8.63497713e-01]\n",
      "  [ 3.17654115e-01 -1.13165647e+00 -1.04383521e+00]\n",
      "  [ 6.54896745e-01 -4.18739123e-01  2.25174681e-01]\n",
      "  [-1.00703055e+00 -7.92676674e-02  1.34260266e-01]\n",
      "  [-9.71692985e-02  1.14587697e+00 -2.60321299e-01]\n",
      "  [-1.75529694e+00 -1.85158980e+00 -5.80758382e-01]\n",
      "  [-4.51879328e-01  1.01441796e+00  2.71818257e-02]\n",
      "  [-9.21645152e-01 -1.31282799e+00 -2.82988040e-01]\n",
      "  [-3.73957512e-01  3.91450555e-01  2.32733506e+00]\n",
      "  [-1.06274695e+00 -3.09327808e-01 -5.88256056e-01]\n",
      "  [-1.76803968e+00  3.36242860e-01  6.28530510e-01]\n",
      "  [-1.67942344e-01 -3.74285168e-01 -1.78844677e+00]]]\n"
     ]
    }
   ],
   "source": [
    "# YOUR CODE HERE\n",
    "random_array = np.random.normal(0, 1, (10,20,3))\n",
    "print(random_array)\n",
    "# raise NotImplementedError()"
   ]
  },
  {
   "cell_type": "code",
   "execution_count": 103,
   "metadata": {
    "deletable": false,
    "editable": false,
    "nbgrader": {
     "cell_type": "code",
     "checksum": "0a7be02bc3f1c1f819571ca187050c3b",
     "grade": true,
     "grade_id": "test_random_array",
     "locked": true,
     "points": 1,
     "schema_version": 3,
     "solution": false
    }
   },
   "outputs": [
    {
     "name": "stdout",
     "output_type": "stream",
     "text": [
      "Success!\n"
     ]
    }
   ],
   "source": [
    "\"\"\"(1 point) Test code for the previous function. This cell should NOT give any errors when it is run.\"\"\"\n",
    "\n",
    "assert random_array.shape == (10, 20, 3)  # check for shape\n",
    "assert np.allclose(random_array.mean(), 0, atol=0.1)\n",
    "assert np.allclose(random_array.std(), 1, atol=0.1)\n",
    "\n",
    "print(\"Success!\")"
   ]
  },
  {
   "cell_type": "markdown",
   "metadata": {
    "deletable": false,
    "editable": false,
    "nbgrader": {
     "cell_type": "markdown",
     "checksum": "1dd155da023e0e04becae67e008b333a",
     "grade": false,
     "grade_id": "cell-fc382a25114485bd",
     "locked": true,
     "schema_version": 3,
     "solution": false
    }
   },
   "source": [
    "### 5. Vector without end points (1 point)\n",
    "\n",
    "Create a vector of size 10 called `vector_end` which has values ranging uniformly in sequence from 0 to 1 (not random sampling), both excluded. Put it in another way, the 10 elements should be equally-spaced between 0 and 1 (as shown in the picture). Do not explicitly write out the values in an array. Instead, use `np.linspace` and modify the resultant vector by indexing.\n",
    "\n",
    "![0-10-number.png](0-10-number.png)'"
   ]
  },
  {
   "cell_type": "code",
   "execution_count": 104,
   "metadata": {
    "deletable": false,
    "nbgrader": {
     "cell_type": "code",
     "checksum": "df4f13495cc8c4ec552d1c39385eabf6",
     "grade": false,
     "grade_id": "vector_end",
     "locked": false,
     "schema_version": 3,
     "solution": true
    }
   },
   "outputs": [
    {
     "name": "stdout",
     "output_type": "stream",
     "text": [
      "[0.09090909 0.18181818 0.27272727 0.36363636 0.45454545 0.54545455\n",
      " 0.63636364 0.72727273 0.81818182 0.90909091]\n"
     ]
    }
   ],
   "source": [
    "# YOUR CODE HERE\n",
    "# l4 = [x/11 for x in range(1,11)]\n",
    "# vector_end = np.array(l4)\n",
    "vector_end = np.linspace(1/11, 1, num=10, endpoint=False, retstep=False)\n",
    "print(vector_end)\n",
    "# raise NotImplementedError()"
   ]
  },
  {
   "cell_type": "code",
   "execution_count": 105,
   "metadata": {
    "deletable": false,
    "editable": false,
    "nbgrader": {
     "cell_type": "code",
     "checksum": "0b984fba4f89e60bb7f22bb8a6e1d768",
     "grade": true,
     "grade_id": "test_vector_end",
     "locked": true,
     "points": 1,
     "schema_version": 3,
     "solution": false
    }
   },
   "outputs": [
    {
     "name": "stdout",
     "output_type": "stream",
     "text": [
      "Success!\n"
     ]
    }
   ],
   "source": [
    "\"\"\"(1 point) Test code for the previous function. This cell should NOT give any errors when it is run.\"\"\"\n",
    "\n",
    "output_vector_end = np.array([ 0.09090909,  0.18181818,  0.27272727,  0.36363636,  0.45454545,\n",
    "        0.54545455,  0.63636364,  0.72727273,  0.81818182,  0.90909091])\n",
    "assert np.allclose(output_vector_end, vector_end)\n",
    "\n",
    "print(\"Success!\")"
   ]
  },
  {
   "cell_type": "markdown",
   "metadata": {
    "deletable": false,
    "editable": false,
    "nbgrader": {
     "cell_type": "markdown",
     "checksum": "48ad6a9a73677b8d4ae2cd3164831368",
     "grade": false,
     "grade_id": "cell-aeaeb421c470f8ef",
     "locked": true,
     "schema_version": 3,
     "solution": false
    }
   },
   "source": [
    "### 6. Sorted random vector (1 point)\n",
    "\n",
    "Create a vector of size 20 called `sorted_array` which contains random numbers (from a function in `np.random`) that you have sorted. It should be sorted in increasing order."
   ]
  },
  {
   "cell_type": "code",
   "execution_count": 106,
   "metadata": {
    "deletable": false,
    "nbgrader": {
     "cell_type": "code",
     "checksum": "76d9b552b7bdb6f39f9577b78d7c5968",
     "grade": false,
     "grade_id": "sorted_array",
     "locked": false,
     "schema_version": 3,
     "solution": true
    }
   },
   "outputs": [],
   "source": [
    "# YOUR CODE HERE\n",
    "arr = np.random.rand(20)\n",
    "sorted_array = np.sort(arr)\n",
    "# raise NotImplementedError()"
   ]
  },
  {
   "cell_type": "code",
   "execution_count": 107,
   "metadata": {
    "deletable": false,
    "editable": false,
    "nbgrader": {
     "cell_type": "code",
     "checksum": "e840b128a2bf9629f392dddaf1d0925e",
     "grade": true,
     "grade_id": "test_sorted_array",
     "locked": true,
     "points": 1,
     "schema_version": 3,
     "solution": false
    }
   },
   "outputs": [
    {
     "name": "stdout",
     "output_type": "stream",
     "text": [
      "Success!\n"
     ]
    }
   ],
   "source": [
    "\"\"\"(1 point) Test code for the previous function. This cell should NOT give any errors when it is run.\"\"\"\n",
    "\n",
    "# check data type\n",
    "assert isinstance(sorted_array, np.ndarray)\n",
    "\n",
    "# check for proper size\n",
    "assert sorted_array.size == 20\n",
    "# check that array is sorted\n",
    "# note that instead of > 0, we should use >= 0!\n",
    "assert (np.diff(sorted_array) >= 0).all()\n",
    "\n",
    "print(\"Success!\")"
   ]
  },
  {
   "cell_type": "markdown",
   "metadata": {
    "deletable": false,
    "editable": false,
    "nbgrader": {
     "cell_type": "markdown",
     "checksum": "c3d34400391d96fff872efd2811b3f1a",
     "grade": false,
     "grade_id": "cell-6f6fe49797d45031",
     "locked": true,
     "schema_version": 3,
     "solution": false
    }
   },
   "source": [
    "### 7. Operations on an array with random values (4 points)\n",
    "\n",
    "Fill in the code for a function, `maxesmins()`, which takes in an array and then returns \n",
    "- the minimum value of the 2nd row\n",
    "- the maximum value of the 4th column\n",
    "\n",
    "If there aren't enough rows or columns in the array to return either, return `np.nan` instead.\n",
    "\n",
    "Hint 1: use try-except might be the best approach here. But you can also use if-else to solve this problem.\n",
    "\n",
    "Hint 2: Don't use K.shape >= (2, 4) as it will not work for comparing two values together at the same time\n"
   ]
  },
  {
   "cell_type": "code",
   "execution_count": 108,
   "metadata": {
    "deletable": false,
    "nbgrader": {
     "cell_type": "code",
     "checksum": "b95237045ca4c9f1550f5459a9781ca4",
     "grade": false,
     "grade_id": "random_operations",
     "locked": false,
     "schema_version": 3,
     "solution": true
    }
   },
   "outputs": [],
   "source": [
    "def maxesmins(K):\n",
    "    \"\"\"Returns the min of the 2nd row and max of the 4th column.\n",
    "\n",
    "    Parameters\n",
    "    ----------\n",
    "    K : numpy array\n",
    "        \n",
    "    Returns\n",
    "    -------\n",
    "    min of the 2nd row and max of the 4th column, as a tuple, or a np.nan for either if the array is too small to calculate it\n",
    "    \"\"\"\n",
    "    # YOUR CODE HERE\n",
    "    try:\n",
    "        arr_min = np.nanmin(K[1])\n",
    "    except:\n",
    "        arr_min = np.nan\n",
    "        \n",
    "    K_t = K.transpose()\n",
    "    \n",
    "    try:\n",
    "        arr_max = np.nanmax(K_t[3])\n",
    "    except:\n",
    "        arr_max = np.nan\n",
    "    return (arr_min, arr_max)\n",
    "    # raise NotImplementedError()"
   ]
  },
  {
   "cell_type": "code",
   "execution_count": 109,
   "metadata": {
    "deletable": false,
    "editable": false,
    "nbgrader": {
     "cell_type": "code",
     "checksum": "df7fdb2523731249d74d588759b68135",
     "grade": true,
     "grade_id": "test_random_operations",
     "locked": true,
     "points": 1,
     "schema_version": 3,
     "solution": false
    }
   },
   "outputs": [
    {
     "name": "stdout",
     "output_type": "stream",
     "text": [
      "This test worked! Next cell has more.\n"
     ]
    }
   ],
   "source": [
    "\"\"\"(1 point) Test code for the previous function. This cell should NOT give any errors when it is run.\"\"\"\n",
    "\n",
    "L = np.array([[1, 3, 5, 7], [2, 4, 6, 8]])\n",
    "assert (2, 8) == maxesmins(L)\n",
    "\n",
    "print(\"This test worked! Next cell has more.\")"
   ]
  },
  {
   "cell_type": "code",
   "execution_count": 110,
   "metadata": {
    "deletable": false,
    "editable": false,
    "nbgrader": {
     "cell_type": "code",
     "checksum": "f3914ea8efa640c06f2c21d56bf93ed4",
     "grade": true,
     "grade_id": "test_random_operations2",
     "locked": true,
     "points": 1,
     "schema_version": 3,
     "solution": false
    }
   },
   "outputs": [
    {
     "name": "stdout",
     "output_type": "stream",
     "text": [
      "This test worked! Next cell has more.\n"
     ]
    }
   ],
   "source": [
    "\"\"\"(1 point) Test code for the previous function. This cell should NOT give any errors when it is run.\"\"\"\n",
    "\n",
    "M = np.ones((5, 5))\n",
    "assert (1, 1) == maxesmins(M)\n",
    "\n",
    "print(\"This test worked! Next cell has more.\")"
   ]
  },
  {
   "cell_type": "code",
   "execution_count": 111,
   "metadata": {
    "deletable": false,
    "editable": false,
    "nbgrader": {
     "cell_type": "code",
     "checksum": "312b1961ed2624260b9a6b029a4fd11a",
     "grade": true,
     "grade_id": "test_random_operations3",
     "locked": true,
     "points": 0.5,
     "schema_version": 3,
     "solution": false
    }
   },
   "outputs": [
    {
     "name": "stdout",
     "output_type": "stream",
     "text": [
      "Success!\n"
     ]
    }
   ],
   "source": [
    "\"\"\"(1 point) Test code for the previous function. This cell should NOT give any errors when it is run.\"\"\"\n",
    "\n",
    "N = np.zeros((3, 2))\n",
    "assert (0, np.nan) == maxesmins(N)\n",
    "\n",
    "print(\"Success!\")"
   ]
  },
  {
   "cell_type": "code",
   "execution_count": 112,
   "metadata": {
    "deletable": false,
    "editable": false,
    "nbgrader": {
     "cell_type": "code",
     "checksum": "86c81fc404987e1762d449dccce5816c",
     "grade": true,
     "grade_id": "cell-a5baa9b2907d99dc",
     "locked": true,
     "points": 0.5,
     "schema_version": 3,
     "solution": false,
     "task": false
    }
   },
   "outputs": [
    {
     "name": "stdout",
     "output_type": "stream",
     "text": [
      "Success!\n"
     ]
    }
   ],
   "source": [
    "N = np.zeros((1, 3))\n",
    "assert (np.nan, np.nan) == maxesmins(N)\n",
    "\n",
    "print(\"Success!\")"
   ]
  },
  {
   "cell_type": "code",
   "execution_count": 113,
   "metadata": {
    "deletable": false,
    "editable": false,
    "nbgrader": {
     "cell_type": "code",
     "checksum": "dce1ebfc7459eb36cf5799421783ae36",
     "grade": true,
     "grade_id": "cell-ae7b685ea892977a",
     "locked": true,
     "points": 1,
     "schema_version": 3,
     "solution": false,
     "task": false
    }
   },
   "outputs": [
    {
     "name": "stdout",
     "output_type": "stream",
     "text": [
      "Success!\n"
     ]
    }
   ],
   "source": [
    "N = np.zeros((3, 1))\n",
    "assert (0, np.nan) == maxesmins(N)\n",
    "\n",
    "print(\"Success!\")"
   ]
  },
  {
   "cell_type": "markdown",
   "metadata": {
    "deletable": false,
    "editable": false,
    "nbgrader": {
     "cell_type": "markdown",
     "checksum": "1ce6d3d0a4b5572d8e2e5051dc78ec65",
     "grade": false,
     "grade_id": "cell-a18b59a919ab1949",
     "locked": true,
     "schema_version": 3,
     "solution": false
    }
   },
   "source": [
    "### 8. array concatenation (3 points)\n",
    "\n",
    "Write a function `array_concat(x, y)` that accepts x and y as two arrays and returns an array that concatenates array x and array y horizontally. It should work on both 1D arrays or 2D arrays (or mixture of 1D and 2D arrays) with the desirable shape. Below are some examples and your function should also work for arrays with different shapes than those examples.\n",
    "    \n",
    "    if (1D and 1D):\n",
    "    x is array([1, 2, 3])\n",
    "    y is array([4, 5])\n",
    "    \n",
    "    The returned array will be array([1, 2, 3, 4, 5])\n",
    "    \n",
    "    if (2D and 2D):\n",
    "    x is array([[1, 2, 3],\n",
    "                [4, 5, 6],\n",
    "                [4, 5, 6]])\n",
    "                \n",
    "    y is array([[7, 8],\n",
    "                [9, 10],\n",
    "                [9, 10]])\n",
    "    \n",
    "    The returned array will be array([[1, 2, 3, 7, 8],\n",
    "                                      [4, 5, 6, 9, 10],\n",
    "                                      [4, 5, 6, 9, 10]])\n",
    "\n",
    "    if (2D and 1D):\n",
    "    x is array([[1, 2, 3],\n",
    "                [4, 5, 6],\n",
    "                [4, 5, 6]])\n",
    "                \n",
    "    y is array([7, 8, 9)])\n",
    "    \n",
    "    The returned array will be array([[1, 2, 3, 7],\n",
    "                                      [4, 5, 6, 8],\n",
    "                                      [4, 5, 6, 9]])\n",
    "                                      \n",
    "    if (1D and 2D):\n",
    "    x is array([7, 8)])\n",
    "                \n",
    "    y is array([[1, 2, 3],\n",
    "                [4, 5, 6]])\n",
    "    \n",
    "    The returned array will be array([[7, 1, 2, 3],\n",
    "                                      [8, 4, 5, 6]])"
   ]
  },
  {
   "cell_type": "code",
   "execution_count": 114,
   "metadata": {
    "deletable": false,
    "nbgrader": {
     "cell_type": "code",
     "checksum": "5f3ad84a629eb1e44418134e8d6c929c",
     "grade": false,
     "grade_id": "find_nonzero",
     "locked": false,
     "schema_version": 3,
     "solution": true
    }
   },
   "outputs": [],
   "source": [
    "def array_concat(x, y):\n",
    "    \"\"\"input two arrays x and y and join the two arrays horizontally\n",
    "       return the concatenated array\n",
    "\n",
    "    Inputs:\n",
    "        x: array\n",
    "        y: array\n",
    "    \n",
    "    Returns:\n",
    "        the concatenated array\n",
    "    \"\"\"\n",
    "    \n",
    "    # YOUR CODE HERE\n",
    "    if x.ndim == y.ndim:\n",
    "        return np.hstack((x, y))\n",
    "    return [np.hstack((x1, y1)) for x1, y1 in zip(x, y)]\n",
    "    # raise NotImplementedError()"
   ]
  },
  {
   "cell_type": "code",
   "execution_count": 115,
   "metadata": {
    "deletable": false,
    "editable": false,
    "nbgrader": {
     "cell_type": "code",
     "checksum": "ed5225c6cd137cf5f324641251ecf4d2",
     "grade": true,
     "grade_id": "1D",
     "locked": true,
     "points": 1,
     "schema_version": 3,
     "solution": false
    }
   },
   "outputs": [
    {
     "name": "stdout",
     "output_type": "stream",
     "text": [
      "Success!\n"
     ]
    }
   ],
   "source": [
    "# part A\n",
    "\"\"\"(1 point) Test code for the previous function. This cell should NOT give any errors when it is run.\n",
    "Do not alter the contents of this cell.\"\"\"\n",
    "\n",
    "x = np.array([2, 3, 4])\n",
    "y = np.array([4, 5])\n",
    "assert np.array_equal(array_concat(x, y), np.array([2, 3, 4, 4, 5]))\n",
    "\n",
    "print(\"Success!\")"
   ]
  },
  {
   "cell_type": "code",
   "execution_count": 116,
   "metadata": {
    "deletable": false,
    "editable": false,
    "nbgrader": {
     "cell_type": "code",
     "checksum": "a0dabe7b61a3a7adbdc7cc916f1d5769",
     "grade": true,
     "grade_id": "1D-2D",
     "locked": true,
     "points": 1,
     "schema_version": 3,
     "solution": false
    }
   },
   "outputs": [
    {
     "name": "stdout",
     "output_type": "stream",
     "text": [
      "Success!\n"
     ]
    }
   ],
   "source": [
    "# part B\n",
    "\"\"\"(1 point) Test code for the previous function. This cell should NOT give any errors when it is run.\n",
    "Do not alter the contents of this cell.\"\"\"\n",
    "\n",
    "x = np.array([[1, 4], [2, 3]])\n",
    "y = np.array([2, 3])\n",
    "assert np.array_equal(array_concat(x, y), np.array([[1, 4, 2], [2, 3, 3]]))\n",
    "\n",
    "print(\"Success!\")"
   ]
  },
  {
   "cell_type": "code",
   "execution_count": 117,
   "metadata": {
    "deletable": false,
    "editable": false,
    "nbgrader": {
     "cell_type": "code",
     "checksum": "65fd08dd2477a86e35b41a6c459fbb4f",
     "grade": true,
     "grade_id": "2D",
     "locked": true,
     "points": 1,
     "schema_version": 3,
     "solution": false,
     "task": false
    }
   },
   "outputs": [
    {
     "name": "stdout",
     "output_type": "stream",
     "text": [
      "Success!\n"
     ]
    }
   ],
   "source": [
    "# part C\n",
    "\"\"\"(1 point) Test code for the previous function. This cell should NOT give any errors when it is run.\n",
    "Do not alter the contents of this cell.\"\"\"\n",
    "\n",
    "x = np.array([[1, 4, 3], [2, 3, 1]])\n",
    "y = np.array([[2, 3, 3], [1, 4, 1]])\n",
    "assert np.array_equal(array_concat(x, y), np.array([[1, 4, 3, 2, 3, 3], [2, 3, 1, 1, 4, 1]]))\n",
    "\n",
    "print(\"Success!\")"
   ]
  },
  {
   "cell_type": "markdown",
   "metadata": {
    "deletable": false,
    "editable": false,
    "nbgrader": {
     "cell_type": "markdown",
     "checksum": "5d389cd78df29a3e078da52c486f4e5a",
     "grade": false,
     "grade_id": "cell-ef83cca8e991c558",
     "locked": true,
     "schema_version": 3,
     "solution": false,
     "task": false
    }
   },
   "source": [
    "# Graduate student problems below"
   ]
  },
  {
   "cell_type": "markdown",
   "metadata": {
    "deletable": false,
    "editable": false,
    "nbgrader": {
     "cell_type": "markdown",
     "checksum": "e2fa80f5b0fd2e4ef61c471b175d5dde",
     "grade": false,
     "grade_id": "cell-5fb069d0561193b0",
     "locked": true,
     "schema_version": 3,
     "solution": false
    }
   },
   "source": [
    "### 9. Convert from Cartesian to polar coordinates (3 points)\n",
    "\n",
    "Write a function `cart2polar(xy)` which takes in an Nx2 (N rows and 2 columns) matrix of `x, y` pairs representing Cartesian coordinates and return the locations represented in polar coordinates in the same shape matrix (**also Nx2, not 2xN**). Read the docstring for more details. Note, you should use `np.arctan2` instead of `np.arctan` to preserve the correct quadrant."
   ]
  },
  {
   "cell_type": "code",
   "execution_count": 118,
   "metadata": {
    "deletable": false,
    "nbgrader": {
     "cell_type": "code",
     "checksum": "1d5b009312808a064967cb73a00e4599",
     "grade": false,
     "grade_id": "cart2polar",
     "locked": false,
     "schema_version": 3,
     "solution": true
    }
   },
   "outputs": [],
   "source": [
    "def cart2polar(xy):\n",
    "    \"\"\"Convert input from Cartesian to polar coordinates.\n",
    "    \n",
    "    Parameters\n",
    "    ----------\n",
    "    xy : array\n",
    "        Nx2 array of Cartesian coordinates, with columns of x and y coordinates, respectively.\n",
    "        \n",
    "    Returns\n",
    "    -------\n",
    "    rphi : array\n",
    "        Coordinates Nx2 array containing input coordinates in polar representation, \n",
    "        with columns radius and angle, respectively.\n",
    "    \"\"\"\n",
    "    # YOUR CODE HERE\n",
    "    raise NotImplementedError()"
   ]
  },
  {
   "cell_type": "code",
   "execution_count": 119,
   "metadata": {
    "deletable": false,
    "editable": false,
    "nbgrader": {
     "cell_type": "code",
     "checksum": "8c875e1a3338e5d7a5f0efc9dafebc44",
     "grade": true,
     "grade_id": "test_cart2polar",
     "locked": true,
     "points": 3,
     "schema_version": 3,
     "solution": false
    }
   },
   "outputs": [
    {
     "ename": "NotImplementedError",
     "evalue": "",
     "output_type": "error",
     "traceback": [
      "\u001b[1;31m---------------------------------------------------------------------------\u001b[0m",
      "\u001b[1;31mNotImplementedError\u001b[0m                       Traceback (most recent call last)",
      "\u001b[1;32m~\\AppData\\Local\\Temp/ipykernel_24520/2605015325.py\u001b[0m in \u001b[0;36m<module>\u001b[1;34m\u001b[0m\n\u001b[0;32m      2\u001b[0m \u001b[1;33m\u001b[0m\u001b[0m\n\u001b[0;32m      3\u001b[0m \u001b[0mcart\u001b[0m \u001b[1;33m=\u001b[0m \u001b[0mnp\u001b[0m\u001b[1;33m.\u001b[0m\u001b[0mrandom\u001b[0m\u001b[1;33m.\u001b[0m\u001b[0mrand\u001b[0m\u001b[1;33m(\u001b[0m\u001b[1;36m10\u001b[0m\u001b[1;33m,\u001b[0m \u001b[1;36m2\u001b[0m\u001b[1;33m)\u001b[0m\u001b[1;33m\u001b[0m\u001b[1;33m\u001b[0m\u001b[0m\n\u001b[1;32m----> 4\u001b[1;33m \u001b[0mpolar\u001b[0m \u001b[1;33m=\u001b[0m \u001b[0mcart2polar\u001b[0m\u001b[1;33m(\u001b[0m\u001b[0mcart\u001b[0m\u001b[1;33m)\u001b[0m\u001b[1;33m\u001b[0m\u001b[1;33m\u001b[0m\u001b[0m\n\u001b[0m\u001b[0;32m      5\u001b[0m \u001b[1;33m\u001b[0m\u001b[0m\n\u001b[0;32m      6\u001b[0m \u001b[1;32massert\u001b[0m \u001b[0mpolar\u001b[0m\u001b[1;33m.\u001b[0m\u001b[0mshape\u001b[0m \u001b[1;33m==\u001b[0m \u001b[1;33m(\u001b[0m\u001b[1;36m10\u001b[0m\u001b[1;33m,\u001b[0m \u001b[1;36m2\u001b[0m\u001b[1;33m)\u001b[0m  \u001b[1;31m# check for shape\u001b[0m\u001b[1;33m\u001b[0m\u001b[1;33m\u001b[0m\u001b[0m\n",
      "\u001b[1;32m~\\AppData\\Local\\Temp/ipykernel_24520/1979696707.py\u001b[0m in \u001b[0;36mcart2polar\u001b[1;34m(xy)\u001b[0m\n\u001b[0;32m     14\u001b[0m     \"\"\"\n\u001b[0;32m     15\u001b[0m     \u001b[1;31m# YOUR CODE HERE\u001b[0m\u001b[1;33m\u001b[0m\u001b[1;33m\u001b[0m\u001b[1;33m\u001b[0m\u001b[0m\n\u001b[1;32m---> 16\u001b[1;33m     \u001b[1;32mraise\u001b[0m \u001b[0mNotImplementedError\u001b[0m\u001b[1;33m(\u001b[0m\u001b[1;33m)\u001b[0m\u001b[1;33m\u001b[0m\u001b[1;33m\u001b[0m\u001b[0m\n\u001b[0m",
      "\u001b[1;31mNotImplementedError\u001b[0m: "
     ]
    }
   ],
   "source": [
    "\"\"\"(3 points) Test code for the previous function. This cell should NOT give any errors when it is run.\"\"\"\n",
    "\n",
    "cart = np.random.rand(10, 2)\n",
    "polar = cart2polar(cart)\n",
    "\n",
    "assert polar.shape == (10, 2)  # check for shape\n",
    "\n",
    "test_input = np.array([[1, 0]])\n",
    "test_output = np.array([[1, 0]])\n",
    "assert (cart2polar(test_input) == test_output).all()  #  check for known case [1, 0]\n",
    "\n",
    "test_input = np.array([[0, 1]])\n",
    "test_output = np.array([[1, np.pi/2]])\n",
    "assert (cart2polar(test_input) == test_output).all()  #  check for known case [0, 1]\n",
    "\n",
    "print(\"Success!\")"
   ]
  },
  {
   "cell_type": "code",
   "execution_count": null,
   "metadata": {},
   "outputs": [],
   "source": []
  }
 ],
 "metadata": {
  "anaconda-cloud": {},
  "kernelspec": {
   "display_name": "Python 3 (ipykernel)",
   "language": "python",
   "name": "python3"
  },
  "language_info": {
   "codemirror_mode": {
    "name": "ipython",
    "version": 3
   },
   "file_extension": ".py",
   "mimetype": "text/x-python",
   "name": "python",
   "nbconvert_exporter": "python",
   "pygments_lexer": "ipython3",
   "version": "3.8.10"
  },
  "toc": {
   "base_numbering": 1,
   "nav_menu": {},
   "number_sections": false,
   "sideBar": true,
   "skip_h1_title": false,
   "title_cell": "Table of Contents",
   "title_sidebar": "Contents",
   "toc_cell": false,
   "toc_position": {},
   "toc_section_display": true,
   "toc_window_display": false
  }
 },
 "nbformat": 4,
 "nbformat_minor": 1
}
