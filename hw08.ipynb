{
 "cells": [
  {
   "cell_type": "markdown",
   "metadata": {},
   "source": [
    "Before you turn this problem in, make sure everything runs as expected. First, **restart the kernel** (click the restart button in the tool bar or select Kernel$\\rightarrow$Restart in the menu bar) and then **run all cells** (in the menu bar, select Cell$\\rightarrow$Run All).\n",
    "\n",
    "**Make sure you delete `raise NotImplementedError()`** (if existing) and fill in any place that says \"YOUR CODE HERE\" or \"YOUR ANSWER HERE\", as well as your name below:"
   ]
  },
  {
   "cell_type": "code",
   "execution_count": 3,
   "metadata": {},
   "outputs": [],
   "source": [
    "NAME = \"Stephen Shell\""
   ]
  },
  {
   "cell_type": "markdown",
   "metadata": {},
   "source": [
    "**Don't modify the formal TEST cells!**"
   ]
  },
  {
   "cell_type": "markdown",
   "metadata": {},
   "source": [
    "---"
   ]
  },
  {
   "cell_type": "markdown",
   "metadata": {
    "deletable": false,
    "editable": false,
    "nbgrader": {
     "cell_type": "markdown",
     "checksum": "e069e88915b53aca9a7b0b5f540ccd7d",
     "grade": false,
     "grade_id": "cell-5475bcbc16f8d773",
     "locked": true,
     "schema_version": 3,
     "solution": false,
     "task": false
    }
   },
   "source": [
    "These problems are to do some basic time indexing with pandas. The first code loads in some data from the USGS waterdata site."
   ]
  },
  {
   "cell_type": "code",
   "execution_count": 4,
   "metadata": {
    "deletable": false,
    "editable": false,
    "nbgrader": {
     "cell_type": "code",
     "checksum": "73eccdb2e70a69b7a537087aded2f9af",
     "grade": false,
     "grade_id": "cell-300f10bee14ee34b",
     "locked": true,
     "schema_version": 3,
     "solution": false,
     "task": false
    }
   },
   "outputs": [
    {
     "data": {
      "text/plain": [
       "datetime\n",
       "1993-07-14        NaN\n",
       "1993-07-15        NaN\n",
       "1993-07-16        NaN\n",
       "1993-07-17        NaN\n",
       "1993-07-18        NaN\n",
       "               ...   \n",
       "2018-10-19    36700.0\n",
       "2018-10-20    34900.0\n",
       "2018-10-21    40300.0\n",
       "2018-10-22    42100.0\n",
       "2018-10-23    38300.0\n",
       "Name: 135330_00060_00003, Length: 9233, dtype: float64"
      ]
     },
     "execution_count": 4,
     "metadata": {},
     "output_type": "execute_result"
    }
   ],
   "source": [
    "import numpy as np\n",
    "import pandas as pd\n",
    "\n",
    "url = 'https://waterdata.usgs.gov/tx/nwis/dv?format=rdb&site_no=08108700&referred_module=sw&begin_date=1993-01-01&end_date=2018-10-23'\n",
    "\n",
    "# load the data\n",
    "brazos = pd.read_csv(url, delim_whitespace=True, comment='#', skiprows=[34,], parse_dates=[2], index_col=2)\n",
    "brazos.loc[:, '135330_00060_00003']  # mean daily discharge"
   ]
  },
  {
   "cell_type": "markdown",
   "metadata": {},
   "source": [
    "[3 points] Explain what each of the options in the function call to `pd.read_csv` does in the cell below. \n",
    "\n",
    "* Note that you need to  write down specifically what the parameter and the number are doing. For example, parse_dates: Tell pandas that the column specified should be imported as a date. In our case, that column index is 2, and is the 3rd column.\n",
    "\n",
    "\n",
    "* Need to explicitly distinguish between **column index** vs. **position of column** (like in the above example, column index is 2 and it is equivalent to the 3rd column)."
   ]
  },
  {
   "cell_type": "markdown",
   "metadata": {
    "deletable": false,
    "nbgrader": {
     "cell_type": "markdown",
     "checksum": "7dc049bff921d655755c6684a275fa49",
     "grade": true,
     "grade_id": "cell-5bd73baa53a916d5",
     "locked": false,
     "points": 3,
     "schema_version": 3,
     "solution": true,
     "task": false
    }
   },
   "source": [
    "**filepath_or_buffer       :** Gives function access to file. In this case, through a URL stored in the variable 'url'.\n",
    "\n",
    "**delim_whitespace = True  :** Sets whitespace as a delimiter or not. In this case, true.\n",
    "\n",
    "**comment = '#'            :** Skips specified lines. In this case, lines following a '#'.\n",
    "\n",
    "**skiprows = $[34,]$       :** Skips line numbers (0-indexed) at the start of the file. In this case, lines 0-34 are skipped.\n",
    "\n",
    "**parse_dates = $[2]$      :** Imports specified column as a date. In this case, column index 2.\n",
    "\n",
    "**index_col = 2            :** Sets columns to be row labels. In this case, column index 2."
   ]
  },
  {
   "cell_type": "markdown",
   "metadata": {},
   "source": [
    "[2 points] Calculate the mean discharge in 2016 and 2017 and store the values in variables called 'brazos_mean_2016' and 'brazos_mean_2017'. Note that the discharge column name is \"135330_00060_00003\"."
   ]
  },
  {
   "cell_type": "code",
   "execution_count": 5,
   "metadata": {
    "deletable": false,
    "nbgrader": {
     "cell_type": "code",
     "checksum": "19b6a3b07cac1143d9ee66a55d7a23ef",
     "grade": false,
     "grade_id": "cell-d5cbe7f06097fe2e",
     "locked": false,
     "schema_version": 3,
     "solution": true
    }
   },
   "outputs": [
    {
     "name": "stdout",
     "output_type": "stream",
     "text": [
      "13075.825136612022\n",
      "3443.3698630136987\n"
     ]
    }
   ],
   "source": [
    "br = brazos.loc[:, '135330_00060_00003']\n",
    "\n",
    "brazos_mean_2016 = br.loc['2016-01-01':'2016-12-31'].mean()\n",
    "brazos_mean_2017 = br.loc['2017-01-01':'2017-12-31'].mean()\n",
    "\n",
    "print(brazos_mean_2016)\n",
    "print(brazos_mean_2017)\n",
    "\n",
    "# raise NotImplementedError()"
   ]
  },
  {
   "cell_type": "code",
   "execution_count": 6,
   "metadata": {
    "deletable": false,
    "editable": false,
    "nbgrader": {
     "cell_type": "code",
     "checksum": "720747b467718aa642ad74aa33d5c4a7",
     "grade": true,
     "grade_id": "cell-356aa2cf22ec31e5",
     "locked": true,
     "points": 2,
     "schema_version": 3,
     "solution": false
    }
   },
   "outputs": [],
   "source": [
    "assert np.isclose(brazos_mean_2016, 13075.825136612022)\n",
    "assert np.isclose(brazos_mean_2017, 3443.3698630136987)"
   ]
  },
  {
   "cell_type": "markdown",
   "metadata": {},
   "source": [
    "[3 points] Compare early summer discharge (May, June, and July) with late summer/fall discharge (August, September, October) in 2016 and 2017. Store your variables with names:\n",
    "\n",
    "   - brazos_mjj_2016\n",
    "   - brazos_aso_2016\n",
    "   - brazos_mjj_2017\n",
    "   - brazos_aso_2017\n"
   ]
  },
  {
   "cell_type": "code",
   "execution_count": 7,
   "metadata": {
    "deletable": false,
    "nbgrader": {
     "cell_type": "code",
     "checksum": "6739e66e28e9b23a83d9dcc10f6c446c",
     "grade": false,
     "grade_id": "cell-838ea2db5fc2d9df",
     "locked": false,
     "schema_version": 3,
     "solution": true
    }
   },
   "outputs": [
    {
     "name": "stdout",
     "output_type": "stream",
     "text": [
      "27803.695652173912\n",
      "4584.945652173913\n",
      "2802.8804347826085\n",
      "1657.5217391304348\n"
     ]
    }
   ],
   "source": [
    "brazos_mjj_2016 = br.loc['2016-05-01':'2016-07-31'].mean()\n",
    "brazos_aso_2016 = br.loc['2016-08-01':'2016-10-31'].mean()\n",
    "brazos_mjj_2017 = br.loc['2017-05-01':'2017-07-31'].mean()\n",
    "brazos_aso_2017 = br.loc['2017-08-01':'2017-10-31'].mean()\n",
    "\n",
    "print(brazos_mjj_2016)\n",
    "print(brazos_aso_2016)\n",
    "print(brazos_mjj_2017)\n",
    "print(brazos_aso_2017)\n",
    "\n",
    "# raise NotImplementedError()"
   ]
  },
  {
   "cell_type": "code",
   "execution_count": 8,
   "metadata": {
    "deletable": false,
    "editable": false,
    "nbgrader": {
     "cell_type": "code",
     "checksum": "cc828f87508464be4007c4653dfc9bbe",
     "grade": true,
     "grade_id": "cell-80a8857cc161af40",
     "locked": true,
     "points": 3,
     "schema_version": 3,
     "solution": false
    }
   },
   "outputs": [],
   "source": [
    "assert np.isclose(brazos_mjj_2016, 27803.695652173912)\n",
    "assert np.isclose(brazos_aso_2016, 4584.945652173913)\n",
    "assert np.isclose(brazos_mjj_2017, 2802.8804347826085)\n",
    "assert np.isclose(brazos_aso_2017, 1657.5217391304348)"
   ]
  },
  {
   "cell_type": "code",
   "execution_count": null,
   "metadata": {},
   "outputs": [],
   "source": []
  }
 ],
 "metadata": {
  "kernelspec": {
   "display_name": "Python 3 (ipykernel)",
   "language": "python",
   "name": "python3"
  },
  "language_info": {
   "codemirror_mode": {
    "name": "ipython",
    "version": 3
   },
   "file_extension": ".py",
   "mimetype": "text/x-python",
   "name": "python",
   "nbconvert_exporter": "python",
   "pygments_lexer": "ipython3",
   "version": "3.8.10"
  },
  "toc": {
   "base_numbering": 1,
   "nav_menu": {},
   "number_sections": false,
   "sideBar": true,
   "skip_h1_title": false,
   "title_cell": "Table of Contents",
   "title_sidebar": "Contents",
   "toc_cell": false,
   "toc_position": {},
   "toc_section_display": true,
   "toc_window_display": false
  }
 },
 "nbformat": 4,
 "nbformat_minor": 2
}
